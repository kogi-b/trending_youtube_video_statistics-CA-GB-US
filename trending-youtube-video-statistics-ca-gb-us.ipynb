{
 "cells": [
  {
   "cell_type": "code",
   "execution_count": 1,
   "id": "a2a2c7b2",
   "metadata": {
    "_cell_guid": "b1076dfc-b9ad-4769-8c92-a6c4dae69d19",
    "_uuid": "8f2839f25d086af736a60e9eeb907d3b93b6e0e5",
    "execution": {
     "iopub.execute_input": "2022-10-06T20:45:19.386622Z",
     "iopub.status.busy": "2022-10-06T20:45:19.386097Z",
     "iopub.status.idle": "2022-10-06T20:45:19.410893Z",
     "shell.execute_reply": "2022-10-06T20:45:19.409555Z"
    },
    "papermill": {
     "duration": 0.041554,
     "end_time": "2022-10-06T20:45:19.414163",
     "exception": false,
     "start_time": "2022-10-06T20:45:19.372609",
     "status": "completed"
    },
    "tags": []
   },
   "outputs": [
    {
     "name": "stdout",
     "output_type": "stream",
     "text": [
      "/kaggle/input/youtube-new/GBvideos.csv\n",
      "/kaggle/input/youtube-new/MXvideos.csv\n",
      "/kaggle/input/youtube-new/KRvideos.csv\n",
      "/kaggle/input/youtube-new/MX_category_id.json\n",
      "/kaggle/input/youtube-new/GB_category_id.json\n",
      "/kaggle/input/youtube-new/US_category_id.json\n",
      "/kaggle/input/youtube-new/IN_category_id.json\n",
      "/kaggle/input/youtube-new/DEvideos.csv\n",
      "/kaggle/input/youtube-new/KR_category_id.json\n",
      "/kaggle/input/youtube-new/RU_category_id.json\n",
      "/kaggle/input/youtube-new/FRvideos.csv\n",
      "/kaggle/input/youtube-new/USvideos.csv\n",
      "/kaggle/input/youtube-new/INvideos.csv\n",
      "/kaggle/input/youtube-new/RUvideos.csv\n",
      "/kaggle/input/youtube-new/CA_category_id.json\n",
      "/kaggle/input/youtube-new/DE_category_id.json\n",
      "/kaggle/input/youtube-new/JP_category_id.json\n",
      "/kaggle/input/youtube-new/JPvideos.csv\n",
      "/kaggle/input/youtube-new/FR_category_id.json\n",
      "/kaggle/input/youtube-new/CAvideos.csv\n"
     ]
    }
   ],
   "source": [
    "# This Python 3 environment comes with many helpful analytics libraries installed\n",
    "# It is defined by the kaggle/python Docker image: https://github.com/kaggle/docker-python\n",
    "# For example, here's several helpful packages to load\n",
    "\n",
    "import numpy as np # linear algebra\n",
    "import pandas as pd # data processing, CSV file I/O (e.g. pd.read_csv)\n",
    "\n",
    "# Input data files are available in the read-only \"../input/\" directory\n",
    "# For example, running this (by clicking run or pressing Shift+Enter) will list all files under the input directory\n",
    "\n",
    "import os\n",
    "for dirname, _, filenames in os.walk('/kaggle/input'):\n",
    "    for filename in filenames:\n",
    "        print(os.path.join(dirname, filename))\n",
    "\n",
    "# You can write up to 20GB to the current directory (/kaggle/working/) that gets preserved as output when you create a version using \"Save & Run All\" \n",
    "# You can also write temporary files to /kaggle/temp/, but they won't be saved outside of the current session"
   ]
  },
  {
   "cell_type": "markdown",
   "id": "fe910c00",
   "metadata": {
    "papermill": {
     "duration": 0.009946,
     "end_time": "2022-10-06T20:45:19.434715",
     "exception": false,
     "start_time": "2022-10-06T20:45:19.424769",
     "status": "completed"
    },
    "tags": []
   },
   "source": [
    "### canadian dataset"
   ]
  },
  {
   "cell_type": "code",
   "execution_count": 2,
   "id": "2905439c",
   "metadata": {
    "execution": {
     "iopub.execute_input": "2022-10-06T20:45:19.459603Z",
     "iopub.status.busy": "2022-10-06T20:45:19.459152Z",
     "iopub.status.idle": "2022-10-06T20:45:21.483747Z",
     "shell.execute_reply": "2022-10-06T20:45:21.482242Z"
    },
    "papermill": {
     "duration": 2.042515,
     "end_time": "2022-10-06T20:45:21.487395",
     "exception": false,
     "start_time": "2022-10-06T20:45:19.444880",
     "status": "completed"
    },
    "tags": []
   },
   "outputs": [
    {
     "name": "stdout",
     "output_type": "stream",
     "text": [
      "<class 'pandas.core.frame.DataFrame'>\n",
      "RangeIndex: 40881 entries, 0 to 40880\n",
      "Data columns (total 16 columns):\n",
      " #   Column                  Non-Null Count  Dtype \n",
      "---  ------                  --------------  ----- \n",
      " 0   video_id                40881 non-null  object\n",
      " 1   trending_date           40881 non-null  object\n",
      " 2   title                   40881 non-null  object\n",
      " 3   channel_title           40881 non-null  object\n",
      " 4   category_id             40881 non-null  int64 \n",
      " 5   publish_time            40881 non-null  object\n",
      " 6   tags                    40881 non-null  object\n",
      " 7   views                   40881 non-null  int64 \n",
      " 8   likes                   40881 non-null  int64 \n",
      " 9   dislikes                40881 non-null  int64 \n",
      " 10  comment_count           40881 non-null  int64 \n",
      " 11  thumbnail_link          40881 non-null  object\n",
      " 12  comments_disabled       40881 non-null  bool  \n",
      " 13  ratings_disabled        40881 non-null  bool  \n",
      " 14  video_error_or_removed  40881 non-null  bool  \n",
      " 15  description             39585 non-null  object\n",
      "dtypes: bool(3), int64(5), object(8)\n",
      "memory usage: 4.2+ MB\n"
     ]
    }
   ],
   "source": [
    "df_ca = pd.read_csv(\"../input/youtube-new/CAvideos.csv\")\n",
    "df_ca.info()"
   ]
  },
  {
   "cell_type": "markdown",
   "id": "b8c1a4cd",
   "metadata": {
    "papermill": {
     "duration": 0.01072,
     "end_time": "2022-10-06T20:45:21.509794",
     "exception": false,
     "start_time": "2022-10-06T20:45:21.499074",
     "status": "completed"
    },
    "tags": []
   },
   "source": [
    "from the general overview, a few things that stand out are:\n",
    "* not all channels have a description\n",
    "* trending date and publish time are listed as an object, they could be candidates for conversion to datetime format"
   ]
  },
  {
   "cell_type": "code",
   "execution_count": 3,
   "id": "0a385fe1",
   "metadata": {
    "execution": {
     "iopub.execute_input": "2022-10-06T20:45:21.533886Z",
     "iopub.status.busy": "2022-10-06T20:45:21.533480Z",
     "iopub.status.idle": "2022-10-06T20:45:21.584947Z",
     "shell.execute_reply": "2022-10-06T20:45:21.583656Z"
    },
    "papermill": {
     "duration": 0.066612,
     "end_time": "2022-10-06T20:45:21.587620",
     "exception": false,
     "start_time": "2022-10-06T20:45:21.521008",
     "status": "completed"
    },
    "tags": []
   },
   "outputs": [
    {
     "data": {
      "text/html": [
       "<div>\n",
       "<style scoped>\n",
       "    .dataframe tbody tr th:only-of-type {\n",
       "        vertical-align: middle;\n",
       "    }\n",
       "\n",
       "    .dataframe tbody tr th {\n",
       "        vertical-align: top;\n",
       "    }\n",
       "\n",
       "    .dataframe thead th {\n",
       "        text-align: right;\n",
       "    }\n",
       "</style>\n",
       "<table border=\"1\" class=\"dataframe\">\n",
       "  <thead>\n",
       "    <tr style=\"text-align: right;\">\n",
       "      <th></th>\n",
       "      <th>category_id</th>\n",
       "      <th>views</th>\n",
       "      <th>likes</th>\n",
       "      <th>dislikes</th>\n",
       "      <th>comment_count</th>\n",
       "    </tr>\n",
       "  </thead>\n",
       "  <tbody>\n",
       "    <tr>\n",
       "      <th>count</th>\n",
       "      <td>40881.000000</td>\n",
       "      <td>4.088100e+04</td>\n",
       "      <td>4.088100e+04</td>\n",
       "      <td>4.088100e+04</td>\n",
       "      <td>4.088100e+04</td>\n",
       "    </tr>\n",
       "    <tr>\n",
       "      <th>mean</th>\n",
       "      <td>20.795553</td>\n",
       "      <td>1.147036e+06</td>\n",
       "      <td>3.958269e+04</td>\n",
       "      <td>2.009195e+03</td>\n",
       "      <td>5.042975e+03</td>\n",
       "    </tr>\n",
       "    <tr>\n",
       "      <th>std</th>\n",
       "      <td>6.775054</td>\n",
       "      <td>3.390913e+06</td>\n",
       "      <td>1.326895e+05</td>\n",
       "      <td>1.900837e+04</td>\n",
       "      <td>2.157902e+04</td>\n",
       "    </tr>\n",
       "    <tr>\n",
       "      <th>min</th>\n",
       "      <td>1.000000</td>\n",
       "      <td>7.330000e+02</td>\n",
       "      <td>0.000000e+00</td>\n",
       "      <td>0.000000e+00</td>\n",
       "      <td>0.000000e+00</td>\n",
       "    </tr>\n",
       "    <tr>\n",
       "      <th>25%</th>\n",
       "      <td>20.000000</td>\n",
       "      <td>1.439020e+05</td>\n",
       "      <td>2.191000e+03</td>\n",
       "      <td>9.900000e+01</td>\n",
       "      <td>4.170000e+02</td>\n",
       "    </tr>\n",
       "    <tr>\n",
       "      <th>50%</th>\n",
       "      <td>24.000000</td>\n",
       "      <td>3.712040e+05</td>\n",
       "      <td>8.780000e+03</td>\n",
       "      <td>3.030000e+02</td>\n",
       "      <td>1.301000e+03</td>\n",
       "    </tr>\n",
       "    <tr>\n",
       "      <th>75%</th>\n",
       "      <td>24.000000</td>\n",
       "      <td>9.633020e+05</td>\n",
       "      <td>2.871700e+04</td>\n",
       "      <td>9.500000e+02</td>\n",
       "      <td>3.713000e+03</td>\n",
       "    </tr>\n",
       "    <tr>\n",
       "      <th>max</th>\n",
       "      <td>43.000000</td>\n",
       "      <td>1.378431e+08</td>\n",
       "      <td>5.053338e+06</td>\n",
       "      <td>1.602383e+06</td>\n",
       "      <td>1.114800e+06</td>\n",
       "    </tr>\n",
       "  </tbody>\n",
       "</table>\n",
       "</div>"
      ],
      "text/plain": [
       "        category_id         views         likes      dislikes  comment_count\n",
       "count  40881.000000  4.088100e+04  4.088100e+04  4.088100e+04   4.088100e+04\n",
       "mean      20.795553  1.147036e+06  3.958269e+04  2.009195e+03   5.042975e+03\n",
       "std        6.775054  3.390913e+06  1.326895e+05  1.900837e+04   2.157902e+04\n",
       "min        1.000000  7.330000e+02  0.000000e+00  0.000000e+00   0.000000e+00\n",
       "25%       20.000000  1.439020e+05  2.191000e+03  9.900000e+01   4.170000e+02\n",
       "50%       24.000000  3.712040e+05  8.780000e+03  3.030000e+02   1.301000e+03\n",
       "75%       24.000000  9.633020e+05  2.871700e+04  9.500000e+02   3.713000e+03\n",
       "max       43.000000  1.378431e+08  5.053338e+06  1.602383e+06   1.114800e+06"
      ]
     },
     "execution_count": 3,
     "metadata": {},
     "output_type": "execute_result"
    }
   ],
   "source": [
    "df_ca.describe()"
   ]
  },
  {
   "cell_type": "code",
   "execution_count": 4,
   "id": "df3362e2",
   "metadata": {
    "execution": {
     "iopub.execute_input": "2022-10-06T20:45:21.610858Z",
     "iopub.status.busy": "2022-10-06T20:45:21.610440Z",
     "iopub.status.idle": "2022-10-06T20:45:21.630834Z",
     "shell.execute_reply": "2022-10-06T20:45:21.629531Z"
    },
    "papermill": {
     "duration": 0.035131,
     "end_time": "2022-10-06T20:45:21.633409",
     "exception": false,
     "start_time": "2022-10-06T20:45:21.598278",
     "status": "completed"
    },
    "tags": []
   },
   "outputs": [
    {
     "data": {
      "text/html": [
       "<div>\n",
       "<style scoped>\n",
       "    .dataframe tbody tr th:only-of-type {\n",
       "        vertical-align: middle;\n",
       "    }\n",
       "\n",
       "    .dataframe tbody tr th {\n",
       "        vertical-align: top;\n",
       "    }\n",
       "\n",
       "    .dataframe thead th {\n",
       "        text-align: right;\n",
       "    }\n",
       "</style>\n",
       "<table border=\"1\" class=\"dataframe\">\n",
       "  <thead>\n",
       "    <tr style=\"text-align: right;\">\n",
       "      <th></th>\n",
       "      <th>video_id</th>\n",
       "      <th>trending_date</th>\n",
       "      <th>title</th>\n",
       "      <th>channel_title</th>\n",
       "      <th>category_id</th>\n",
       "      <th>publish_time</th>\n",
       "      <th>tags</th>\n",
       "      <th>views</th>\n",
       "      <th>likes</th>\n",
       "      <th>dislikes</th>\n",
       "      <th>comment_count</th>\n",
       "      <th>thumbnail_link</th>\n",
       "      <th>comments_disabled</th>\n",
       "      <th>ratings_disabled</th>\n",
       "      <th>video_error_or_removed</th>\n",
       "      <th>description</th>\n",
       "    </tr>\n",
       "  </thead>\n",
       "  <tbody>\n",
       "    <tr>\n",
       "      <th>0</th>\n",
       "      <td>n1WpP7iowLc</td>\n",
       "      <td>17.14.11</td>\n",
       "      <td>Eminem - Walk On Water (Audio) ft. Beyoncé</td>\n",
       "      <td>EminemVEVO</td>\n",
       "      <td>10</td>\n",
       "      <td>2017-11-10T17:00:03.000Z</td>\n",
       "      <td>Eminem|\"Walk\"|\"On\"|\"Water\"|\"Aftermath/Shady/In...</td>\n",
       "      <td>17158579</td>\n",
       "      <td>787425</td>\n",
       "      <td>43420</td>\n",
       "      <td>125882</td>\n",
       "      <td>https://i.ytimg.com/vi/n1WpP7iowLc/default.jpg</td>\n",
       "      <td>False</td>\n",
       "      <td>False</td>\n",
       "      <td>False</td>\n",
       "      <td>Eminem's new track Walk on Water ft. Beyoncé i...</td>\n",
       "    </tr>\n",
       "    <tr>\n",
       "      <th>1</th>\n",
       "      <td>0dBIkQ4Mz1M</td>\n",
       "      <td>17.14.11</td>\n",
       "      <td>PLUSH - Bad Unboxing Fan Mail</td>\n",
       "      <td>iDubbbzTV</td>\n",
       "      <td>23</td>\n",
       "      <td>2017-11-13T17:00:00.000Z</td>\n",
       "      <td>plush|\"bad unboxing\"|\"unboxing\"|\"fan mail\"|\"id...</td>\n",
       "      <td>1014651</td>\n",
       "      <td>127794</td>\n",
       "      <td>1688</td>\n",
       "      <td>13030</td>\n",
       "      <td>https://i.ytimg.com/vi/0dBIkQ4Mz1M/default.jpg</td>\n",
       "      <td>False</td>\n",
       "      <td>False</td>\n",
       "      <td>False</td>\n",
       "      <td>STill got a lot of packages. Probably will las...</td>\n",
       "    </tr>\n",
       "    <tr>\n",
       "      <th>2</th>\n",
       "      <td>5qpjK5DgCt4</td>\n",
       "      <td>17.14.11</td>\n",
       "      <td>Racist Superman | Rudy Mancuso, King Bach &amp; Le...</td>\n",
       "      <td>Rudy Mancuso</td>\n",
       "      <td>23</td>\n",
       "      <td>2017-11-12T19:05:24.000Z</td>\n",
       "      <td>racist superman|\"rudy\"|\"mancuso\"|\"king\"|\"bach\"...</td>\n",
       "      <td>3191434</td>\n",
       "      <td>146035</td>\n",
       "      <td>5339</td>\n",
       "      <td>8181</td>\n",
       "      <td>https://i.ytimg.com/vi/5qpjK5DgCt4/default.jpg</td>\n",
       "      <td>False</td>\n",
       "      <td>False</td>\n",
       "      <td>False</td>\n",
       "      <td>WATCH MY PREVIOUS VIDEO ▶ \\n\\nSUBSCRIBE ► http...</td>\n",
       "    </tr>\n",
       "    <tr>\n",
       "      <th>3</th>\n",
       "      <td>d380meD0W0M</td>\n",
       "      <td>17.14.11</td>\n",
       "      <td>I Dare You: GOING BALD!?</td>\n",
       "      <td>nigahiga</td>\n",
       "      <td>24</td>\n",
       "      <td>2017-11-12T18:01:41.000Z</td>\n",
       "      <td>ryan|\"higa\"|\"higatv\"|\"nigahiga\"|\"i dare you\"|\"...</td>\n",
       "      <td>2095828</td>\n",
       "      <td>132239</td>\n",
       "      <td>1989</td>\n",
       "      <td>17518</td>\n",
       "      <td>https://i.ytimg.com/vi/d380meD0W0M/default.jpg</td>\n",
       "      <td>False</td>\n",
       "      <td>False</td>\n",
       "      <td>False</td>\n",
       "      <td>I know it's been a while since we did this sho...</td>\n",
       "    </tr>\n",
       "    <tr>\n",
       "      <th>4</th>\n",
       "      <td>2Vv-BfVoq4g</td>\n",
       "      <td>17.14.11</td>\n",
       "      <td>Ed Sheeran - Perfect (Official Music Video)</td>\n",
       "      <td>Ed Sheeran</td>\n",
       "      <td>10</td>\n",
       "      <td>2017-11-09T11:04:14.000Z</td>\n",
       "      <td>edsheeran|\"ed sheeran\"|\"acoustic\"|\"live\"|\"cove...</td>\n",
       "      <td>33523622</td>\n",
       "      <td>1634130</td>\n",
       "      <td>21082</td>\n",
       "      <td>85067</td>\n",
       "      <td>https://i.ytimg.com/vi/2Vv-BfVoq4g/default.jpg</td>\n",
       "      <td>False</td>\n",
       "      <td>False</td>\n",
       "      <td>False</td>\n",
       "      <td>🎧: https://ad.gt/yt-perfect\\n💰: https://atlant...</td>\n",
       "    </tr>\n",
       "  </tbody>\n",
       "</table>\n",
       "</div>"
      ],
      "text/plain": [
       "      video_id trending_date  \\\n",
       "0  n1WpP7iowLc      17.14.11   \n",
       "1  0dBIkQ4Mz1M      17.14.11   \n",
       "2  5qpjK5DgCt4      17.14.11   \n",
       "3  d380meD0W0M      17.14.11   \n",
       "4  2Vv-BfVoq4g      17.14.11   \n",
       "\n",
       "                                               title channel_title  \\\n",
       "0         Eminem - Walk On Water (Audio) ft. Beyoncé    EminemVEVO   \n",
       "1                      PLUSH - Bad Unboxing Fan Mail     iDubbbzTV   \n",
       "2  Racist Superman | Rudy Mancuso, King Bach & Le...  Rudy Mancuso   \n",
       "3                           I Dare You: GOING BALD!?      nigahiga   \n",
       "4        Ed Sheeran - Perfect (Official Music Video)    Ed Sheeran   \n",
       "\n",
       "   category_id              publish_time  \\\n",
       "0           10  2017-11-10T17:00:03.000Z   \n",
       "1           23  2017-11-13T17:00:00.000Z   \n",
       "2           23  2017-11-12T19:05:24.000Z   \n",
       "3           24  2017-11-12T18:01:41.000Z   \n",
       "4           10  2017-11-09T11:04:14.000Z   \n",
       "\n",
       "                                                tags     views    likes  \\\n",
       "0  Eminem|\"Walk\"|\"On\"|\"Water\"|\"Aftermath/Shady/In...  17158579   787425   \n",
       "1  plush|\"bad unboxing\"|\"unboxing\"|\"fan mail\"|\"id...   1014651   127794   \n",
       "2  racist superman|\"rudy\"|\"mancuso\"|\"king\"|\"bach\"...   3191434   146035   \n",
       "3  ryan|\"higa\"|\"higatv\"|\"nigahiga\"|\"i dare you\"|\"...   2095828   132239   \n",
       "4  edsheeran|\"ed sheeran\"|\"acoustic\"|\"live\"|\"cove...  33523622  1634130   \n",
       "\n",
       "   dislikes  comment_count                                  thumbnail_link  \\\n",
       "0     43420         125882  https://i.ytimg.com/vi/n1WpP7iowLc/default.jpg   \n",
       "1      1688          13030  https://i.ytimg.com/vi/0dBIkQ4Mz1M/default.jpg   \n",
       "2      5339           8181  https://i.ytimg.com/vi/5qpjK5DgCt4/default.jpg   \n",
       "3      1989          17518  https://i.ytimg.com/vi/d380meD0W0M/default.jpg   \n",
       "4     21082          85067  https://i.ytimg.com/vi/2Vv-BfVoq4g/default.jpg   \n",
       "\n",
       "   comments_disabled  ratings_disabled  video_error_or_removed  \\\n",
       "0              False             False                   False   \n",
       "1              False             False                   False   \n",
       "2              False             False                   False   \n",
       "3              False             False                   False   \n",
       "4              False             False                   False   \n",
       "\n",
       "                                         description  \n",
       "0  Eminem's new track Walk on Water ft. Beyoncé i...  \n",
       "1  STill got a lot of packages. Probably will las...  \n",
       "2  WATCH MY PREVIOUS VIDEO ▶ \\n\\nSUBSCRIBE ► http...  \n",
       "3  I know it's been a while since we did this sho...  \n",
       "4  🎧: https://ad.gt/yt-perfect\\n💰: https://atlant...  "
      ]
     },
     "execution_count": 4,
     "metadata": {},
     "output_type": "execute_result"
    }
   ],
   "source": [
    "df_ca.head()"
   ]
  },
  {
   "cell_type": "code",
   "execution_count": 5,
   "id": "94a18f98",
   "metadata": {
    "execution": {
     "iopub.execute_input": "2022-10-06T20:45:21.657714Z",
     "iopub.status.busy": "2022-10-06T20:45:21.657314Z",
     "iopub.status.idle": "2022-10-06T20:45:21.801617Z",
     "shell.execute_reply": "2022-10-06T20:45:21.800319Z"
    },
    "papermill": {
     "duration": 0.159495,
     "end_time": "2022-10-06T20:45:21.804295",
     "exception": false,
     "start_time": "2022-10-06T20:45:21.644800",
     "status": "completed"
    },
    "tags": []
   },
   "outputs": [
    {
     "data": {
      "text/plain": [
       "video_id                  24427\n",
       "trending_date               205\n",
       "title                     24573\n",
       "channel_title              5076\n",
       "category_id                  17\n",
       "publish_time              23613\n",
       "tags                      20157\n",
       "views                     40170\n",
       "likes                     24676\n",
       "dislikes                   6241\n",
       "comment_count             11172\n",
       "thumbnail_link            24422\n",
       "comments_disabled             2\n",
       "ratings_disabled              2\n",
       "video_error_or_removed        2\n",
       "description               22345\n",
       "dtype: int64"
      ]
     },
     "execution_count": 5,
     "metadata": {},
     "output_type": "execute_result"
    }
   ],
   "source": [
    "df_ca.nunique()"
   ]
  },
  {
   "cell_type": "markdown",
   "id": "a0e396a8",
   "metadata": {
    "papermill": {
     "duration": 0.012204,
     "end_time": "2022-10-06T20:45:21.828479",
     "exception": false,
     "start_time": "2022-10-06T20:45:21.816275",
     "status": "completed"
    },
    "tags": []
   },
   "source": [
    "* there are 205 unique dates\n",
    "* the number of unique values in the category section is 17. This is a candidate for conversion to a categorical variable.\n",
    "* comments_disabled, ratings_disabled and video_error_or_removed are also candidates for conversion to categorical variables"
   ]
  },
  {
   "cell_type": "code",
   "execution_count": 6,
   "id": "79e11c28",
   "metadata": {
    "execution": {
     "iopub.execute_input": "2022-10-06T20:45:21.853374Z",
     "iopub.status.busy": "2022-10-06T20:45:21.852932Z",
     "iopub.status.idle": "2022-10-06T20:45:21.963862Z",
     "shell.execute_reply": "2022-10-06T20:45:21.962688Z"
    },
    "papermill": {
     "duration": 0.126527,
     "end_time": "2022-10-06T20:45:21.966537",
     "exception": false,
     "start_time": "2022-10-06T20:45:21.840010",
     "status": "completed"
    },
    "tags": []
   },
   "outputs": [
    {
     "data": {
      "text/plain": [
       "0"
      ]
     },
     "execution_count": 6,
     "metadata": {},
     "output_type": "execute_result"
    }
   ],
   "source": [
    "df_ca.duplicated().sum()"
   ]
  },
  {
   "cell_type": "markdown",
   "id": "e125a5af",
   "metadata": {
    "papermill": {
     "duration": 0.011203,
     "end_time": "2022-10-06T20:45:21.989282",
     "exception": false,
     "start_time": "2022-10-06T20:45:21.978079",
     "status": "completed"
    },
    "tags": []
   },
   "source": [
    "### Great Britain"
   ]
  },
  {
   "cell_type": "code",
   "execution_count": 7,
   "id": "49d3802c",
   "metadata": {
    "execution": {
     "iopub.execute_input": "2022-10-06T20:45:22.014191Z",
     "iopub.status.busy": "2022-10-06T20:45:22.013740Z",
     "iopub.status.idle": "2022-10-06T20:45:23.419608Z",
     "shell.execute_reply": "2022-10-06T20:45:23.418106Z"
    },
    "papermill": {
     "duration": 1.422731,
     "end_time": "2022-10-06T20:45:23.423367",
     "exception": false,
     "start_time": "2022-10-06T20:45:22.000636",
     "status": "completed"
    },
    "tags": []
   },
   "outputs": [
    {
     "name": "stdout",
     "output_type": "stream",
     "text": [
      "<class 'pandas.core.frame.DataFrame'>\n",
      "RangeIndex: 38916 entries, 0 to 38915\n",
      "Data columns (total 16 columns):\n",
      " #   Column                  Non-Null Count  Dtype \n",
      "---  ------                  --------------  ----- \n",
      " 0   video_id                38916 non-null  object\n",
      " 1   trending_date           38916 non-null  object\n",
      " 2   title                   38916 non-null  object\n",
      " 3   channel_title           38916 non-null  object\n",
      " 4   category_id             38916 non-null  int64 \n",
      " 5   publish_time            38916 non-null  object\n",
      " 6   tags                    38916 non-null  object\n",
      " 7   views                   38916 non-null  int64 \n",
      " 8   likes                   38916 non-null  int64 \n",
      " 9   dislikes                38916 non-null  int64 \n",
      " 10  comment_count           38916 non-null  int64 \n",
      " 11  thumbnail_link          38916 non-null  object\n",
      " 12  comments_disabled       38916 non-null  bool  \n",
      " 13  ratings_disabled        38916 non-null  bool  \n",
      " 14  video_error_or_removed  38916 non-null  bool  \n",
      " 15  description             38304 non-null  object\n",
      "dtypes: bool(3), int64(5), object(8)\n",
      "memory usage: 4.0+ MB\n"
     ]
    }
   ],
   "source": [
    "df_gb = pd.read_csv(\"../input/youtube-new/GBvideos.csv\")\n",
    "df_gb.info()"
   ]
  },
  {
   "cell_type": "code",
   "execution_count": 8,
   "id": "d5684d2e",
   "metadata": {
    "execution": {
     "iopub.execute_input": "2022-10-06T20:45:23.448873Z",
     "iopub.status.busy": "2022-10-06T20:45:23.448460Z",
     "iopub.status.idle": "2022-10-06T20:45:23.456688Z",
     "shell.execute_reply": "2022-10-06T20:45:23.455382Z"
    },
    "papermill": {
     "duration": 0.023766,
     "end_time": "2022-10-06T20:45:23.459191",
     "exception": false,
     "start_time": "2022-10-06T20:45:23.435425",
     "status": "completed"
    },
    "tags": []
   },
   "outputs": [
    {
     "data": {
      "text/plain": [
       "array([ True,  True,  True,  True,  True,  True,  True,  True,  True,\n",
       "        True,  True,  True,  True,  True,  True,  True])"
      ]
     },
     "execution_count": 8,
     "metadata": {},
     "output_type": "execute_result"
    }
   ],
   "source": [
    "df_ca.columns == df_gb.columns"
   ]
  },
  {
   "cell_type": "markdown",
   "id": "840caf32",
   "metadata": {
    "papermill": {
     "duration": 0.012299,
     "end_time": "2022-10-06T20:45:23.483301",
     "exception": false,
     "start_time": "2022-10-06T20:45:23.471002",
     "status": "completed"
    },
    "tags": []
   },
   "source": [
    "here I verify that the columns in great britain are the same as the columns in canada"
   ]
  },
  {
   "cell_type": "code",
   "execution_count": 9,
   "id": "a0ade8d3",
   "metadata": {
    "execution": {
     "iopub.execute_input": "2022-10-06T20:45:23.508406Z",
     "iopub.status.busy": "2022-10-06T20:45:23.507945Z",
     "iopub.status.idle": "2022-10-06T20:45:23.543269Z",
     "shell.execute_reply": "2022-10-06T20:45:23.542023Z"
    },
    "papermill": {
     "duration": 0.05101,
     "end_time": "2022-10-06T20:45:23.545939",
     "exception": false,
     "start_time": "2022-10-06T20:45:23.494929",
     "status": "completed"
    },
    "tags": []
   },
   "outputs": [
    {
     "data": {
      "text/html": [
       "<div>\n",
       "<style scoped>\n",
       "    .dataframe tbody tr th:only-of-type {\n",
       "        vertical-align: middle;\n",
       "    }\n",
       "\n",
       "    .dataframe tbody tr th {\n",
       "        vertical-align: top;\n",
       "    }\n",
       "\n",
       "    .dataframe thead th {\n",
       "        text-align: right;\n",
       "    }\n",
       "</style>\n",
       "<table border=\"1\" class=\"dataframe\">\n",
       "  <thead>\n",
       "    <tr style=\"text-align: right;\">\n",
       "      <th></th>\n",
       "      <th>category_id</th>\n",
       "      <th>views</th>\n",
       "      <th>likes</th>\n",
       "      <th>dislikes</th>\n",
       "      <th>comment_count</th>\n",
       "    </tr>\n",
       "  </thead>\n",
       "  <tbody>\n",
       "    <tr>\n",
       "      <th>count</th>\n",
       "      <td>38916.000000</td>\n",
       "      <td>3.891600e+04</td>\n",
       "      <td>3.891600e+04</td>\n",
       "      <td>3.891600e+04</td>\n",
       "      <td>3.891600e+04</td>\n",
       "    </tr>\n",
       "    <tr>\n",
       "      <th>mean</th>\n",
       "      <td>16.827937</td>\n",
       "      <td>5.911944e+06</td>\n",
       "      <td>1.345196e+05</td>\n",
       "      <td>7.612560e+03</td>\n",
       "      <td>1.308835e+04</td>\n",
       "    </tr>\n",
       "    <tr>\n",
       "      <th>std</th>\n",
       "      <td>7.752728</td>\n",
       "      <td>1.900121e+07</td>\n",
       "      <td>3.499893e+05</td>\n",
       "      <td>5.095683e+04</td>\n",
       "      <td>5.066740e+04</td>\n",
       "    </tr>\n",
       "    <tr>\n",
       "      <th>min</th>\n",
       "      <td>1.000000</td>\n",
       "      <td>8.510000e+02</td>\n",
       "      <td>0.000000e+00</td>\n",
       "      <td>0.000000e+00</td>\n",
       "      <td>0.000000e+00</td>\n",
       "    </tr>\n",
       "    <tr>\n",
       "      <th>25%</th>\n",
       "      <td>10.000000</td>\n",
       "      <td>2.515272e+05</td>\n",
       "      <td>5.897000e+03</td>\n",
       "      <td>2.000000e+02</td>\n",
       "      <td>6.790000e+02</td>\n",
       "    </tr>\n",
       "    <tr>\n",
       "      <th>50%</th>\n",
       "      <td>20.000000</td>\n",
       "      <td>9.818890e+05</td>\n",
       "      <td>2.518250e+04</td>\n",
       "      <td>8.210000e+02</td>\n",
       "      <td>2.478000e+03</td>\n",
       "    </tr>\n",
       "    <tr>\n",
       "      <th>75%</th>\n",
       "      <td>24.000000</td>\n",
       "      <td>3.683628e+06</td>\n",
       "      <td>1.140892e+05</td>\n",
       "      <td>3.357500e+03</td>\n",
       "      <td>9.241500e+03</td>\n",
       "    </tr>\n",
       "    <tr>\n",
       "      <th>max</th>\n",
       "      <td>43.000000</td>\n",
       "      <td>4.245389e+08</td>\n",
       "      <td>5.613827e+06</td>\n",
       "      <td>1.944971e+06</td>\n",
       "      <td>1.626501e+06</td>\n",
       "    </tr>\n",
       "  </tbody>\n",
       "</table>\n",
       "</div>"
      ],
      "text/plain": [
       "        category_id         views         likes      dislikes  comment_count\n",
       "count  38916.000000  3.891600e+04  3.891600e+04  3.891600e+04   3.891600e+04\n",
       "mean      16.827937  5.911944e+06  1.345196e+05  7.612560e+03   1.308835e+04\n",
       "std        7.752728  1.900121e+07  3.499893e+05  5.095683e+04   5.066740e+04\n",
       "min        1.000000  8.510000e+02  0.000000e+00  0.000000e+00   0.000000e+00\n",
       "25%       10.000000  2.515272e+05  5.897000e+03  2.000000e+02   6.790000e+02\n",
       "50%       20.000000  9.818890e+05  2.518250e+04  8.210000e+02   2.478000e+03\n",
       "75%       24.000000  3.683628e+06  1.140892e+05  3.357500e+03   9.241500e+03\n",
       "max       43.000000  4.245389e+08  5.613827e+06  1.944971e+06   1.626501e+06"
      ]
     },
     "execution_count": 9,
     "metadata": {},
     "output_type": "execute_result"
    }
   ],
   "source": [
    "df_gb.describe()"
   ]
  },
  {
   "cell_type": "code",
   "execution_count": 10,
   "id": "457b8012",
   "metadata": {
    "execution": {
     "iopub.execute_input": "2022-10-06T20:45:23.571616Z",
     "iopub.status.busy": "2022-10-06T20:45:23.571172Z",
     "iopub.status.idle": "2022-10-06T20:45:23.599263Z",
     "shell.execute_reply": "2022-10-06T20:45:23.598122Z"
    },
    "papermill": {
     "duration": 0.04381,
     "end_time": "2022-10-06T20:45:23.601690",
     "exception": false,
     "start_time": "2022-10-06T20:45:23.557880",
     "status": "completed"
    },
    "tags": []
   },
   "outputs": [
    {
     "name": "stdout",
     "output_type": "stream",
     "text": [
      "<class 'pandas.core.frame.DataFrame'>\n",
      "RangeIndex: 38916 entries, 0 to 38915\n",
      "Data columns (total 16 columns):\n",
      " #   Column                  Non-Null Count  Dtype \n",
      "---  ------                  --------------  ----- \n",
      " 0   video_id                38916 non-null  object\n",
      " 1   trending_date           38916 non-null  object\n",
      " 2   title                   38916 non-null  object\n",
      " 3   channel_title           38916 non-null  object\n",
      " 4   category_id             38916 non-null  int64 \n",
      " 5   publish_time            38916 non-null  object\n",
      " 6   tags                    38916 non-null  object\n",
      " 7   views                   38916 non-null  int64 \n",
      " 8   likes                   38916 non-null  int64 \n",
      " 9   dislikes                38916 non-null  int64 \n",
      " 10  comment_count           38916 non-null  int64 \n",
      " 11  thumbnail_link          38916 non-null  object\n",
      " 12  comments_disabled       38916 non-null  bool  \n",
      " 13  ratings_disabled        38916 non-null  bool  \n",
      " 14  video_error_or_removed  38916 non-null  bool  \n",
      " 15  description             38304 non-null  object\n",
      "dtypes: bool(3), int64(5), object(8)\n",
      "memory usage: 4.0+ MB\n"
     ]
    }
   ],
   "source": [
    "df_gb.info()"
   ]
  },
  {
   "cell_type": "code",
   "execution_count": 11,
   "id": "53399f81",
   "metadata": {
    "execution": {
     "iopub.execute_input": "2022-10-06T20:45:23.628164Z",
     "iopub.status.busy": "2022-10-06T20:45:23.626994Z",
     "iopub.status.idle": "2022-10-06T20:45:23.645630Z",
     "shell.execute_reply": "2022-10-06T20:45:23.644436Z"
    },
    "papermill": {
     "duration": 0.03467,
     "end_time": "2022-10-06T20:45:23.648360",
     "exception": false,
     "start_time": "2022-10-06T20:45:23.613690",
     "status": "completed"
    },
    "tags": []
   },
   "outputs": [
    {
     "data": {
      "text/html": [
       "<div>\n",
       "<style scoped>\n",
       "    .dataframe tbody tr th:only-of-type {\n",
       "        vertical-align: middle;\n",
       "    }\n",
       "\n",
       "    .dataframe tbody tr th {\n",
       "        vertical-align: top;\n",
       "    }\n",
       "\n",
       "    .dataframe thead th {\n",
       "        text-align: right;\n",
       "    }\n",
       "</style>\n",
       "<table border=\"1\" class=\"dataframe\">\n",
       "  <thead>\n",
       "    <tr style=\"text-align: right;\">\n",
       "      <th></th>\n",
       "      <th>video_id</th>\n",
       "      <th>trending_date</th>\n",
       "      <th>title</th>\n",
       "      <th>channel_title</th>\n",
       "      <th>category_id</th>\n",
       "      <th>publish_time</th>\n",
       "      <th>tags</th>\n",
       "      <th>views</th>\n",
       "      <th>likes</th>\n",
       "      <th>dislikes</th>\n",
       "      <th>comment_count</th>\n",
       "      <th>thumbnail_link</th>\n",
       "      <th>comments_disabled</th>\n",
       "      <th>ratings_disabled</th>\n",
       "      <th>video_error_or_removed</th>\n",
       "      <th>description</th>\n",
       "    </tr>\n",
       "  </thead>\n",
       "  <tbody>\n",
       "    <tr>\n",
       "      <th>0</th>\n",
       "      <td>Jw1Y-zhQURU</td>\n",
       "      <td>17.14.11</td>\n",
       "      <td>John Lewis Christmas Ad 2017 - #MozTheMonster</td>\n",
       "      <td>John Lewis</td>\n",
       "      <td>26</td>\n",
       "      <td>2017-11-10T07:38:29.000Z</td>\n",
       "      <td>christmas|\"john lewis christmas\"|\"john lewis\"|...</td>\n",
       "      <td>7224515</td>\n",
       "      <td>55681</td>\n",
       "      <td>10247</td>\n",
       "      <td>9479</td>\n",
       "      <td>https://i.ytimg.com/vi/Jw1Y-zhQURU/default.jpg</td>\n",
       "      <td>False</td>\n",
       "      <td>False</td>\n",
       "      <td>False</td>\n",
       "      <td>Click here to continue the story and make your...</td>\n",
       "    </tr>\n",
       "    <tr>\n",
       "      <th>1</th>\n",
       "      <td>3s1rvMFUweQ</td>\n",
       "      <td>17.14.11</td>\n",
       "      <td>Taylor Swift: …Ready for It? (Live) - SNL</td>\n",
       "      <td>Saturday Night Live</td>\n",
       "      <td>24</td>\n",
       "      <td>2017-11-12T06:24:44.000Z</td>\n",
       "      <td>SNL|\"Saturday Night Live\"|\"SNL Season 43\"|\"Epi...</td>\n",
       "      <td>1053632</td>\n",
       "      <td>25561</td>\n",
       "      <td>2294</td>\n",
       "      <td>2757</td>\n",
       "      <td>https://i.ytimg.com/vi/3s1rvMFUweQ/default.jpg</td>\n",
       "      <td>False</td>\n",
       "      <td>False</td>\n",
       "      <td>False</td>\n",
       "      <td>Musical guest Taylor Swift performs …Ready for...</td>\n",
       "    </tr>\n",
       "    <tr>\n",
       "      <th>2</th>\n",
       "      <td>n1WpP7iowLc</td>\n",
       "      <td>17.14.11</td>\n",
       "      <td>Eminem - Walk On Water (Audio) ft. Beyoncé</td>\n",
       "      <td>EminemVEVO</td>\n",
       "      <td>10</td>\n",
       "      <td>2017-11-10T17:00:03.000Z</td>\n",
       "      <td>Eminem|\"Walk\"|\"On\"|\"Water\"|\"Aftermath/Shady/In...</td>\n",
       "      <td>17158579</td>\n",
       "      <td>787420</td>\n",
       "      <td>43420</td>\n",
       "      <td>125882</td>\n",
       "      <td>https://i.ytimg.com/vi/n1WpP7iowLc/default.jpg</td>\n",
       "      <td>False</td>\n",
       "      <td>False</td>\n",
       "      <td>False</td>\n",
       "      <td>Eminem's new track Walk on Water ft. Beyoncé i...</td>\n",
       "    </tr>\n",
       "    <tr>\n",
       "      <th>3</th>\n",
       "      <td>PUTEiSjKwJU</td>\n",
       "      <td>17.14.11</td>\n",
       "      <td>Goals from Salford City vs Class of 92 and Fri...</td>\n",
       "      <td>Salford City Football Club</td>\n",
       "      <td>17</td>\n",
       "      <td>2017-11-13T02:30:38.000Z</td>\n",
       "      <td>Salford City FC|\"Salford City\"|\"Salford\"|\"Clas...</td>\n",
       "      <td>27833</td>\n",
       "      <td>193</td>\n",
       "      <td>12</td>\n",
       "      <td>37</td>\n",
       "      <td>https://i.ytimg.com/vi/PUTEiSjKwJU/default.jpg</td>\n",
       "      <td>False</td>\n",
       "      <td>False</td>\n",
       "      <td>False</td>\n",
       "      <td>Salford drew 4-4 against the Class of 92 and F...</td>\n",
       "    </tr>\n",
       "    <tr>\n",
       "      <th>4</th>\n",
       "      <td>rHwDegptbI4</td>\n",
       "      <td>17.14.11</td>\n",
       "      <td>Dashcam captures truck's near miss with child ...</td>\n",
       "      <td>Cute Girl Videos</td>\n",
       "      <td>25</td>\n",
       "      <td>2017-11-13T01:45:13.000Z</td>\n",
       "      <td>[none]</td>\n",
       "      <td>9815</td>\n",
       "      <td>30</td>\n",
       "      <td>2</td>\n",
       "      <td>30</td>\n",
       "      <td>https://i.ytimg.com/vi/rHwDegptbI4/default.jpg</td>\n",
       "      <td>False</td>\n",
       "      <td>False</td>\n",
       "      <td>False</td>\n",
       "      <td>Dashcam captures truck's near miss with child ...</td>\n",
       "    </tr>\n",
       "  </tbody>\n",
       "</table>\n",
       "</div>"
      ],
      "text/plain": [
       "      video_id trending_date  \\\n",
       "0  Jw1Y-zhQURU      17.14.11   \n",
       "1  3s1rvMFUweQ      17.14.11   \n",
       "2  n1WpP7iowLc      17.14.11   \n",
       "3  PUTEiSjKwJU      17.14.11   \n",
       "4  rHwDegptbI4      17.14.11   \n",
       "\n",
       "                                               title  \\\n",
       "0      John Lewis Christmas Ad 2017 - #MozTheMonster   \n",
       "1          Taylor Swift: …Ready for It? (Live) - SNL   \n",
       "2         Eminem - Walk On Water (Audio) ft. Beyoncé   \n",
       "3  Goals from Salford City vs Class of 92 and Fri...   \n",
       "4  Dashcam captures truck's near miss with child ...   \n",
       "\n",
       "                channel_title  category_id              publish_time  \\\n",
       "0                  John Lewis           26  2017-11-10T07:38:29.000Z   \n",
       "1         Saturday Night Live           24  2017-11-12T06:24:44.000Z   \n",
       "2                  EminemVEVO           10  2017-11-10T17:00:03.000Z   \n",
       "3  Salford City Football Club           17  2017-11-13T02:30:38.000Z   \n",
       "4            Cute Girl Videos           25  2017-11-13T01:45:13.000Z   \n",
       "\n",
       "                                                tags     views   likes  \\\n",
       "0  christmas|\"john lewis christmas\"|\"john lewis\"|...   7224515   55681   \n",
       "1  SNL|\"Saturday Night Live\"|\"SNL Season 43\"|\"Epi...   1053632   25561   \n",
       "2  Eminem|\"Walk\"|\"On\"|\"Water\"|\"Aftermath/Shady/In...  17158579  787420   \n",
       "3  Salford City FC|\"Salford City\"|\"Salford\"|\"Clas...     27833     193   \n",
       "4                                             [none]      9815      30   \n",
       "\n",
       "   dislikes  comment_count                                  thumbnail_link  \\\n",
       "0     10247           9479  https://i.ytimg.com/vi/Jw1Y-zhQURU/default.jpg   \n",
       "1      2294           2757  https://i.ytimg.com/vi/3s1rvMFUweQ/default.jpg   \n",
       "2     43420         125882  https://i.ytimg.com/vi/n1WpP7iowLc/default.jpg   \n",
       "3        12             37  https://i.ytimg.com/vi/PUTEiSjKwJU/default.jpg   \n",
       "4         2             30  https://i.ytimg.com/vi/rHwDegptbI4/default.jpg   \n",
       "\n",
       "   comments_disabled  ratings_disabled  video_error_or_removed  \\\n",
       "0              False             False                   False   \n",
       "1              False             False                   False   \n",
       "2              False             False                   False   \n",
       "3              False             False                   False   \n",
       "4              False             False                   False   \n",
       "\n",
       "                                         description  \n",
       "0  Click here to continue the story and make your...  \n",
       "1  Musical guest Taylor Swift performs …Ready for...  \n",
       "2  Eminem's new track Walk on Water ft. Beyoncé i...  \n",
       "3  Salford drew 4-4 against the Class of 92 and F...  \n",
       "4  Dashcam captures truck's near miss with child ...  "
      ]
     },
     "execution_count": 11,
     "metadata": {},
     "output_type": "execute_result"
    }
   ],
   "source": [
    "df_gb.head()"
   ]
  },
  {
   "cell_type": "code",
   "execution_count": 12,
   "id": "8751382b",
   "metadata": {
    "execution": {
     "iopub.execute_input": "2022-10-06T20:45:23.675404Z",
     "iopub.status.busy": "2022-10-06T20:45:23.674296Z",
     "iopub.status.idle": "2022-10-06T20:45:23.739890Z",
     "shell.execute_reply": "2022-10-06T20:45:23.738731Z"
    },
    "papermill": {
     "duration": 0.081474,
     "end_time": "2022-10-06T20:45:23.742199",
     "exception": false,
     "start_time": "2022-10-06T20:45:23.660725",
     "status": "completed"
    },
    "tags": []
   },
   "outputs": [
    {
     "data": {
      "text/plain": [
       "video_id                   3272\n",
       "trending_date               205\n",
       "title                      3369\n",
       "channel_title              1625\n",
       "category_id                  16\n",
       "publish_time               3250\n",
       "tags                       3122\n",
       "views                     38393\n",
       "likes                     30556\n",
       "dislikes                  11092\n",
       "comment_count             15778\n",
       "thumbnail_link             3272\n",
       "comments_disabled             2\n",
       "ratings_disabled              2\n",
       "video_error_or_removed        2\n",
       "description                3704\n",
       "dtype: int64"
      ]
     },
     "execution_count": 12,
     "metadata": {},
     "output_type": "execute_result"
    }
   ],
   "source": [
    "df_gb.nunique()"
   ]
  },
  {
   "cell_type": "code",
   "execution_count": 13,
   "id": "62717a57",
   "metadata": {
    "execution": {
     "iopub.execute_input": "2022-10-06T20:45:23.769525Z",
     "iopub.status.busy": "2022-10-06T20:45:23.768503Z",
     "iopub.status.idle": "2022-10-06T20:45:23.842820Z",
     "shell.execute_reply": "2022-10-06T20:45:23.841603Z"
    },
    "papermill": {
     "duration": 0.091383,
     "end_time": "2022-10-06T20:45:23.845950",
     "exception": false,
     "start_time": "2022-10-06T20:45:23.754567",
     "status": "completed"
    },
    "tags": []
   },
   "outputs": [
    {
     "data": {
      "text/plain": [
       "171"
      ]
     },
     "execution_count": 13,
     "metadata": {},
     "output_type": "execute_result"
    }
   ],
   "source": [
    "df_gb.duplicated().sum()"
   ]
  },
  {
   "cell_type": "markdown",
   "id": "f98de5d3",
   "metadata": {
    "papermill": {
     "duration": 0.01211,
     "end_time": "2022-10-06T20:45:23.870794",
     "exception": false,
     "start_time": "2022-10-06T20:45:23.858684",
     "status": "completed"
    },
    "tags": []
   },
   "source": [
    "Here we see there are 171 duplicated rows in the Great Britain dataset"
   ]
  },
  {
   "cell_type": "code",
   "execution_count": 14,
   "id": "2217bcc5",
   "metadata": {
    "execution": {
     "iopub.execute_input": "2022-10-06T20:45:23.897894Z",
     "iopub.status.busy": "2022-10-06T20:45:23.896685Z",
     "iopub.status.idle": "2022-10-06T20:45:23.982170Z",
     "shell.execute_reply": "2022-10-06T20:45:23.980949Z"
    },
    "papermill": {
     "duration": 0.101769,
     "end_time": "2022-10-06T20:45:23.984872",
     "exception": false,
     "start_time": "2022-10-06T20:45:23.883103",
     "status": "completed"
    },
    "tags": []
   },
   "outputs": [
    {
     "data": {
      "text/html": [
       "<div>\n",
       "<style scoped>\n",
       "    .dataframe tbody tr th:only-of-type {\n",
       "        vertical-align: middle;\n",
       "    }\n",
       "\n",
       "    .dataframe tbody tr th {\n",
       "        vertical-align: top;\n",
       "    }\n",
       "\n",
       "    .dataframe thead th {\n",
       "        text-align: right;\n",
       "    }\n",
       "</style>\n",
       "<table border=\"1\" class=\"dataframe\">\n",
       "  <thead>\n",
       "    <tr style=\"text-align: right;\">\n",
       "      <th></th>\n",
       "      <th>video_id</th>\n",
       "      <th>trending_date</th>\n",
       "      <th>title</th>\n",
       "      <th>channel_title</th>\n",
       "      <th>category_id</th>\n",
       "      <th>publish_time</th>\n",
       "      <th>tags</th>\n",
       "      <th>views</th>\n",
       "      <th>likes</th>\n",
       "      <th>dislikes</th>\n",
       "      <th>comment_count</th>\n",
       "      <th>thumbnail_link</th>\n",
       "      <th>comments_disabled</th>\n",
       "      <th>ratings_disabled</th>\n",
       "      <th>video_error_or_removed</th>\n",
       "      <th>description</th>\n",
       "    </tr>\n",
       "  </thead>\n",
       "  <tbody>\n",
       "    <tr>\n",
       "      <th>33743</th>\n",
       "      <td>RUCXD3_wW2w</td>\n",
       "      <td>18.14.05</td>\n",
       "      <td>New Hulu Show - SNL</td>\n",
       "      <td>Saturday Night Live</td>\n",
       "      <td>24</td>\n",
       "      <td>2018-05-13T04:59:28.000Z</td>\n",
       "      <td>SNL|\"Saturday Night Live\"|\"SNL Season 43\"|\"SNL...</td>\n",
       "      <td>723495</td>\n",
       "      <td>6362</td>\n",
       "      <td>1589</td>\n",
       "      <td>420</td>\n",
       "      <td>https://i.ytimg.com/vi/RUCXD3_wW2w/default.jpg</td>\n",
       "      <td>False</td>\n",
       "      <td>False</td>\n",
       "      <td>False</td>\n",
       "      <td>From the executive producer of Sex and the Cit...</td>\n",
       "    </tr>\n",
       "    <tr>\n",
       "      <th>33744</th>\n",
       "      <td>p8npDG2ulKQ</td>\n",
       "      <td>18.14.05</td>\n",
       "      <td>BTS (방탄소년단) LOVE YOURSELF 轉 Tear 'Singularity'...</td>\n",
       "      <td>ibighit</td>\n",
       "      <td>10</td>\n",
       "      <td>2018-05-06T15:00:02.000Z</td>\n",
       "      <td>BIGHIT|\"빅히트\"|\"방탄소년단\"|\"BTS\"|\"BANGTAN\"|\"방탄\"</td>\n",
       "      <td>26912663</td>\n",
       "      <td>2636004</td>\n",
       "      <td>27675</td>\n",
       "      <td>366899</td>\n",
       "      <td>https://i.ytimg.com/vi/p8npDG2ulKQ/default.jpg</td>\n",
       "      <td>False</td>\n",
       "      <td>False</td>\n",
       "      <td>False</td>\n",
       "      <td>BTS (방탄소년단) LOVE YOURSELF 轉 Tear 'Singularity'...</td>\n",
       "    </tr>\n",
       "    <tr>\n",
       "      <th>33745</th>\n",
       "      <td>aixso4N2vhI</td>\n",
       "      <td>18.14.05</td>\n",
       "      <td>President Trump Gives Remarks on the Joint Com...</td>\n",
       "      <td>The White House</td>\n",
       "      <td>25</td>\n",
       "      <td>2018-05-08T18:45:37.000Z</td>\n",
       "      <td>[none]</td>\n",
       "      <td>89715</td>\n",
       "      <td>2806</td>\n",
       "      <td>488</td>\n",
       "      <td>1657</td>\n",
       "      <td>https://i.ytimg.com/vi/aixso4N2vhI/default.jpg</td>\n",
       "      <td>False</td>\n",
       "      <td>False</td>\n",
       "      <td>False</td>\n",
       "      <td>The White House</td>\n",
       "    </tr>\n",
       "    <tr>\n",
       "      <th>33746</th>\n",
       "      <td>bu0m_UdtoaU</td>\n",
       "      <td>18.14.05</td>\n",
       "      <td>Serious Questions: Avengers Infinity War</td>\n",
       "      <td>Screen Junkies</td>\n",
       "      <td>1</td>\n",
       "      <td>2018-05-06T17:00:03.000Z</td>\n",
       "      <td>screenjunkies|\"screen junkies\"|\"serious questi...</td>\n",
       "      <td>443621</td>\n",
       "      <td>12892</td>\n",
       "      <td>3829</td>\n",
       "      <td>2275</td>\n",
       "      <td>https://i.ytimg.com/vi/bu0m_UdtoaU/default.jpg</td>\n",
       "      <td>False</td>\n",
       "      <td>False</td>\n",
       "      <td>False</td>\n",
       "      <td>After watching Avengers: Infinity War we have ...</td>\n",
       "    </tr>\n",
       "    <tr>\n",
       "      <th>33747</th>\n",
       "      <td>i-G1hy73Mb8</td>\n",
       "      <td>18.14.05</td>\n",
       "      <td>Eurovision Song Contest 2018 - Opening Ceremon...</td>\n",
       "      <td>Eurovision Song Contest</td>\n",
       "      <td>24</td>\n",
       "      <td>2018-05-06T19:46:34.000Z</td>\n",
       "      <td>Eurovision Song Contest|\"2018\"|\"Lisbon\"|\"Openi...</td>\n",
       "      <td>698827</td>\n",
       "      <td>11721</td>\n",
       "      <td>461</td>\n",
       "      <td>1175</td>\n",
       "      <td>https://i.ytimg.com/vi/i-G1hy73Mb8/default.jpg</td>\n",
       "      <td>False</td>\n",
       "      <td>False</td>\n",
       "      <td>False</td>\n",
       "      <td>At 18:00 CEST today, the Blue Carpet ceremony ...</td>\n",
       "    </tr>\n",
       "  </tbody>\n",
       "</table>\n",
       "</div>"
      ],
      "text/plain": [
       "          video_id trending_date  \\\n",
       "33743  RUCXD3_wW2w      18.14.05   \n",
       "33744  p8npDG2ulKQ      18.14.05   \n",
       "33745  aixso4N2vhI      18.14.05   \n",
       "33746  bu0m_UdtoaU      18.14.05   \n",
       "33747  i-G1hy73Mb8      18.14.05   \n",
       "\n",
       "                                                   title  \\\n",
       "33743                                New Hulu Show - SNL   \n",
       "33744  BTS (방탄소년단) LOVE YOURSELF 轉 Tear 'Singularity'...   \n",
       "33745  President Trump Gives Remarks on the Joint Com...   \n",
       "33746           Serious Questions: Avengers Infinity War   \n",
       "33747  Eurovision Song Contest 2018 - Opening Ceremon...   \n",
       "\n",
       "                 channel_title  category_id              publish_time  \\\n",
       "33743      Saturday Night Live           24  2018-05-13T04:59:28.000Z   \n",
       "33744                  ibighit           10  2018-05-06T15:00:02.000Z   \n",
       "33745          The White House           25  2018-05-08T18:45:37.000Z   \n",
       "33746           Screen Junkies            1  2018-05-06T17:00:03.000Z   \n",
       "33747  Eurovision Song Contest           24  2018-05-06T19:46:34.000Z   \n",
       "\n",
       "                                                    tags     views    likes  \\\n",
       "33743  SNL|\"Saturday Night Live\"|\"SNL Season 43\"|\"SNL...    723495     6362   \n",
       "33744          BIGHIT|\"빅히트\"|\"방탄소년단\"|\"BTS\"|\"BANGTAN\"|\"방탄\"  26912663  2636004   \n",
       "33745                                             [none]     89715     2806   \n",
       "33746  screenjunkies|\"screen junkies\"|\"serious questi...    443621    12892   \n",
       "33747  Eurovision Song Contest|\"2018\"|\"Lisbon\"|\"Openi...    698827    11721   \n",
       "\n",
       "       dislikes  comment_count  \\\n",
       "33743      1589            420   \n",
       "33744     27675         366899   \n",
       "33745       488           1657   \n",
       "33746      3829           2275   \n",
       "33747       461           1175   \n",
       "\n",
       "                                       thumbnail_link  comments_disabled  \\\n",
       "33743  https://i.ytimg.com/vi/RUCXD3_wW2w/default.jpg              False   \n",
       "33744  https://i.ytimg.com/vi/p8npDG2ulKQ/default.jpg              False   \n",
       "33745  https://i.ytimg.com/vi/aixso4N2vhI/default.jpg              False   \n",
       "33746  https://i.ytimg.com/vi/bu0m_UdtoaU/default.jpg              False   \n",
       "33747  https://i.ytimg.com/vi/i-G1hy73Mb8/default.jpg              False   \n",
       "\n",
       "       ratings_disabled  video_error_or_removed  \\\n",
       "33743             False                   False   \n",
       "33744             False                   False   \n",
       "33745             False                   False   \n",
       "33746             False                   False   \n",
       "33747             False                   False   \n",
       "\n",
       "                                             description  \n",
       "33743  From the executive producer of Sex and the Cit...  \n",
       "33744  BTS (방탄소년단) LOVE YOURSELF 轉 Tear 'Singularity'...  \n",
       "33745                                    The White House  \n",
       "33746  After watching Avengers: Infinity War we have ...  \n",
       "33747  At 18:00 CEST today, the Blue Carpet ceremony ...  "
      ]
     },
     "execution_count": 14,
     "metadata": {},
     "output_type": "execute_result"
    }
   ],
   "source": [
    "df_gb_duplicated = df_gb[df_gb.duplicated() == True]\n",
    "df_gb_duplicated.head()\n",
    "# df_gb[df_gb['ID'].duplicated() == True]"
   ]
  },
  {
   "cell_type": "code",
   "execution_count": 15,
   "id": "25eab63c",
   "metadata": {
    "execution": {
     "iopub.execute_input": "2022-10-06T20:45:24.012874Z",
     "iopub.status.busy": "2022-10-06T20:45:24.011804Z",
     "iopub.status.idle": "2022-10-06T20:45:24.031259Z",
     "shell.execute_reply": "2022-10-06T20:45:24.030051Z"
    },
    "papermill": {
     "duration": 0.036085,
     "end_time": "2022-10-06T20:45:24.033839",
     "exception": false,
     "start_time": "2022-10-06T20:45:23.997754",
     "status": "completed"
    },
    "tags": []
   },
   "outputs": [
    {
     "data": {
      "text/html": [
       "<div>\n",
       "<style scoped>\n",
       "    .dataframe tbody tr th:only-of-type {\n",
       "        vertical-align: middle;\n",
       "    }\n",
       "\n",
       "    .dataframe tbody tr th {\n",
       "        vertical-align: top;\n",
       "    }\n",
       "\n",
       "    .dataframe thead th {\n",
       "        text-align: right;\n",
       "    }\n",
       "</style>\n",
       "<table border=\"1\" class=\"dataframe\">\n",
       "  <thead>\n",
       "    <tr style=\"text-align: right;\">\n",
       "      <th></th>\n",
       "      <th>video_id</th>\n",
       "      <th>trending_date</th>\n",
       "      <th>title</th>\n",
       "      <th>channel_title</th>\n",
       "      <th>category_id</th>\n",
       "      <th>publish_time</th>\n",
       "      <th>tags</th>\n",
       "      <th>views</th>\n",
       "      <th>likes</th>\n",
       "      <th>dislikes</th>\n",
       "      <th>comment_count</th>\n",
       "      <th>thumbnail_link</th>\n",
       "      <th>comments_disabled</th>\n",
       "      <th>ratings_disabled</th>\n",
       "      <th>video_error_or_removed</th>\n",
       "      <th>description</th>\n",
       "    </tr>\n",
       "  </thead>\n",
       "  <tbody>\n",
       "    <tr>\n",
       "      <th>33629</th>\n",
       "      <td>RUCXD3_wW2w</td>\n",
       "      <td>18.14.05</td>\n",
       "      <td>New Hulu Show - SNL</td>\n",
       "      <td>Saturday Night Live</td>\n",
       "      <td>24</td>\n",
       "      <td>2018-05-13T04:59:28.000Z</td>\n",
       "      <td>SNL|\"Saturday Night Live\"|\"SNL Season 43\"|\"SNL...</td>\n",
       "      <td>723495</td>\n",
       "      <td>6362</td>\n",
       "      <td>1589</td>\n",
       "      <td>420</td>\n",
       "      <td>https://i.ytimg.com/vi/RUCXD3_wW2w/default.jpg</td>\n",
       "      <td>False</td>\n",
       "      <td>False</td>\n",
       "      <td>False</td>\n",
       "      <td>From the executive producer of Sex and the Cit...</td>\n",
       "    </tr>\n",
       "    <tr>\n",
       "      <th>33743</th>\n",
       "      <td>RUCXD3_wW2w</td>\n",
       "      <td>18.14.05</td>\n",
       "      <td>New Hulu Show - SNL</td>\n",
       "      <td>Saturday Night Live</td>\n",
       "      <td>24</td>\n",
       "      <td>2018-05-13T04:59:28.000Z</td>\n",
       "      <td>SNL|\"Saturday Night Live\"|\"SNL Season 43\"|\"SNL...</td>\n",
       "      <td>723495</td>\n",
       "      <td>6362</td>\n",
       "      <td>1589</td>\n",
       "      <td>420</td>\n",
       "      <td>https://i.ytimg.com/vi/RUCXD3_wW2w/default.jpg</td>\n",
       "      <td>False</td>\n",
       "      <td>False</td>\n",
       "      <td>False</td>\n",
       "      <td>From the executive producer of Sex and the Cit...</td>\n",
       "    </tr>\n",
       "  </tbody>\n",
       "</table>\n",
       "</div>"
      ],
      "text/plain": [
       "          video_id trending_date                title        channel_title  \\\n",
       "33629  RUCXD3_wW2w      18.14.05  New Hulu Show - SNL  Saturday Night Live   \n",
       "33743  RUCXD3_wW2w      18.14.05  New Hulu Show - SNL  Saturday Night Live   \n",
       "\n",
       "       category_id              publish_time  \\\n",
       "33629           24  2018-05-13T04:59:28.000Z   \n",
       "33743           24  2018-05-13T04:59:28.000Z   \n",
       "\n",
       "                                                    tags   views  likes  \\\n",
       "33629  SNL|\"Saturday Night Live\"|\"SNL Season 43\"|\"SNL...  723495   6362   \n",
       "33743  SNL|\"Saturday Night Live\"|\"SNL Season 43\"|\"SNL...  723495   6362   \n",
       "\n",
       "       dislikes  comment_count  \\\n",
       "33629      1589            420   \n",
       "33743      1589            420   \n",
       "\n",
       "                                       thumbnail_link  comments_disabled  \\\n",
       "33629  https://i.ytimg.com/vi/RUCXD3_wW2w/default.jpg              False   \n",
       "33743  https://i.ytimg.com/vi/RUCXD3_wW2w/default.jpg              False   \n",
       "\n",
       "       ratings_disabled  video_error_or_removed  \\\n",
       "33629             False                   False   \n",
       "33743             False                   False   \n",
       "\n",
       "                                             description  \n",
       "33629  From the executive producer of Sex and the Cit...  \n",
       "33743  From the executive producer of Sex and the Cit...  "
      ]
     },
     "execution_count": 15,
     "metadata": {},
     "output_type": "execute_result"
    }
   ],
   "source": [
    "# confirming duplication using one row\n",
    "df_gb.loc[df_gb['views'] == 723495]"
   ]
  },
  {
   "cell_type": "code",
   "execution_count": 16,
   "id": "37e1aa0e",
   "metadata": {
    "execution": {
     "iopub.execute_input": "2022-10-06T20:45:24.062347Z",
     "iopub.status.busy": "2022-10-06T20:45:24.061897Z",
     "iopub.status.idle": "2022-10-06T20:45:24.207679Z",
     "shell.execute_reply": "2022-10-06T20:45:24.206786Z"
    },
    "papermill": {
     "duration": 0.162636,
     "end_time": "2022-10-06T20:45:24.209954",
     "exception": false,
     "start_time": "2022-10-06T20:45:24.047318",
     "status": "completed"
    },
    "tags": []
   },
   "outputs": [
    {
     "data": {
      "text/plain": [
       "0"
      ]
     },
     "execution_count": 16,
     "metadata": {},
     "output_type": "execute_result"
    }
   ],
   "source": [
    "# removing the duplicated values and confirming\n",
    "df_gb.drop_duplicates(inplace=True)\n",
    "df_gb.duplicated().sum()"
   ]
  },
  {
   "cell_type": "markdown",
   "id": "52e2c88d",
   "metadata": {
    "papermill": {
     "duration": 0.013018,
     "end_time": "2022-10-06T20:45:24.236367",
     "exception": false,
     "start_time": "2022-10-06T20:45:24.223349",
     "status": "completed"
    },
    "tags": []
   },
   "source": [
    "### United States"
   ]
  },
  {
   "cell_type": "code",
   "execution_count": 17,
   "id": "de752c11",
   "metadata": {
    "execution": {
     "iopub.execute_input": "2022-10-06T20:45:24.266153Z",
     "iopub.status.busy": "2022-10-06T20:45:24.264947Z",
     "iopub.status.idle": "2022-10-06T20:45:25.897889Z",
     "shell.execute_reply": "2022-10-06T20:45:25.896698Z"
    },
    "papermill": {
     "duration": 1.650672,
     "end_time": "2022-10-06T20:45:25.900605",
     "exception": false,
     "start_time": "2022-10-06T20:45:24.249933",
     "status": "completed"
    },
    "tags": []
   },
   "outputs": [
    {
     "data": {
      "text/html": [
       "<div>\n",
       "<style scoped>\n",
       "    .dataframe tbody tr th:only-of-type {\n",
       "        vertical-align: middle;\n",
       "    }\n",
       "\n",
       "    .dataframe tbody tr th {\n",
       "        vertical-align: top;\n",
       "    }\n",
       "\n",
       "    .dataframe thead th {\n",
       "        text-align: right;\n",
       "    }\n",
       "</style>\n",
       "<table border=\"1\" class=\"dataframe\">\n",
       "  <thead>\n",
       "    <tr style=\"text-align: right;\">\n",
       "      <th></th>\n",
       "      <th>video_id</th>\n",
       "      <th>trending_date</th>\n",
       "      <th>title</th>\n",
       "      <th>channel_title</th>\n",
       "      <th>category_id</th>\n",
       "      <th>publish_time</th>\n",
       "      <th>tags</th>\n",
       "      <th>views</th>\n",
       "      <th>likes</th>\n",
       "      <th>dislikes</th>\n",
       "      <th>comment_count</th>\n",
       "      <th>thumbnail_link</th>\n",
       "      <th>comments_disabled</th>\n",
       "      <th>ratings_disabled</th>\n",
       "      <th>video_error_or_removed</th>\n",
       "      <th>description</th>\n",
       "    </tr>\n",
       "  </thead>\n",
       "  <tbody>\n",
       "    <tr>\n",
       "      <th>0</th>\n",
       "      <td>2kyS6SvSYSE</td>\n",
       "      <td>17.14.11</td>\n",
       "      <td>WE WANT TO TALK ABOUT OUR MARRIAGE</td>\n",
       "      <td>CaseyNeistat</td>\n",
       "      <td>22</td>\n",
       "      <td>2017-11-13T17:13:01.000Z</td>\n",
       "      <td>SHANtell martin</td>\n",
       "      <td>748374</td>\n",
       "      <td>57527</td>\n",
       "      <td>2966</td>\n",
       "      <td>15954</td>\n",
       "      <td>https://i.ytimg.com/vi/2kyS6SvSYSE/default.jpg</td>\n",
       "      <td>False</td>\n",
       "      <td>False</td>\n",
       "      <td>False</td>\n",
       "      <td>SHANTELL'S CHANNEL - https://www.youtube.com/s...</td>\n",
       "    </tr>\n",
       "    <tr>\n",
       "      <th>1</th>\n",
       "      <td>1ZAPwfrtAFY</td>\n",
       "      <td>17.14.11</td>\n",
       "      <td>The Trump Presidency: Last Week Tonight with J...</td>\n",
       "      <td>LastWeekTonight</td>\n",
       "      <td>24</td>\n",
       "      <td>2017-11-13T07:30:00.000Z</td>\n",
       "      <td>last week tonight trump presidency|\"last week ...</td>\n",
       "      <td>2418783</td>\n",
       "      <td>97185</td>\n",
       "      <td>6146</td>\n",
       "      <td>12703</td>\n",
       "      <td>https://i.ytimg.com/vi/1ZAPwfrtAFY/default.jpg</td>\n",
       "      <td>False</td>\n",
       "      <td>False</td>\n",
       "      <td>False</td>\n",
       "      <td>One year after the presidential election, John...</td>\n",
       "    </tr>\n",
       "    <tr>\n",
       "      <th>2</th>\n",
       "      <td>5qpjK5DgCt4</td>\n",
       "      <td>17.14.11</td>\n",
       "      <td>Racist Superman | Rudy Mancuso, King Bach &amp; Le...</td>\n",
       "      <td>Rudy Mancuso</td>\n",
       "      <td>23</td>\n",
       "      <td>2017-11-12T19:05:24.000Z</td>\n",
       "      <td>racist superman|\"rudy\"|\"mancuso\"|\"king\"|\"bach\"...</td>\n",
       "      <td>3191434</td>\n",
       "      <td>146033</td>\n",
       "      <td>5339</td>\n",
       "      <td>8181</td>\n",
       "      <td>https://i.ytimg.com/vi/5qpjK5DgCt4/default.jpg</td>\n",
       "      <td>False</td>\n",
       "      <td>False</td>\n",
       "      <td>False</td>\n",
       "      <td>WATCH MY PREVIOUS VIDEO ▶ \\n\\nSUBSCRIBE ► http...</td>\n",
       "    </tr>\n",
       "    <tr>\n",
       "      <th>3</th>\n",
       "      <td>puqaWrEC7tY</td>\n",
       "      <td>17.14.11</td>\n",
       "      <td>Nickelback Lyrics: Real or Fake?</td>\n",
       "      <td>Good Mythical Morning</td>\n",
       "      <td>24</td>\n",
       "      <td>2017-11-13T11:00:04.000Z</td>\n",
       "      <td>rhett and link|\"gmm\"|\"good mythical morning\"|\"...</td>\n",
       "      <td>343168</td>\n",
       "      <td>10172</td>\n",
       "      <td>666</td>\n",
       "      <td>2146</td>\n",
       "      <td>https://i.ytimg.com/vi/puqaWrEC7tY/default.jpg</td>\n",
       "      <td>False</td>\n",
       "      <td>False</td>\n",
       "      <td>False</td>\n",
       "      <td>Today we find out if Link is a Nickelback amat...</td>\n",
       "    </tr>\n",
       "    <tr>\n",
       "      <th>4</th>\n",
       "      <td>d380meD0W0M</td>\n",
       "      <td>17.14.11</td>\n",
       "      <td>I Dare You: GOING BALD!?</td>\n",
       "      <td>nigahiga</td>\n",
       "      <td>24</td>\n",
       "      <td>2017-11-12T18:01:41.000Z</td>\n",
       "      <td>ryan|\"higa\"|\"higatv\"|\"nigahiga\"|\"i dare you\"|\"...</td>\n",
       "      <td>2095731</td>\n",
       "      <td>132235</td>\n",
       "      <td>1989</td>\n",
       "      <td>17518</td>\n",
       "      <td>https://i.ytimg.com/vi/d380meD0W0M/default.jpg</td>\n",
       "      <td>False</td>\n",
       "      <td>False</td>\n",
       "      <td>False</td>\n",
       "      <td>I know it's been a while since we did this sho...</td>\n",
       "    </tr>\n",
       "  </tbody>\n",
       "</table>\n",
       "</div>"
      ],
      "text/plain": [
       "      video_id trending_date  \\\n",
       "0  2kyS6SvSYSE      17.14.11   \n",
       "1  1ZAPwfrtAFY      17.14.11   \n",
       "2  5qpjK5DgCt4      17.14.11   \n",
       "3  puqaWrEC7tY      17.14.11   \n",
       "4  d380meD0W0M      17.14.11   \n",
       "\n",
       "                                               title          channel_title  \\\n",
       "0                 WE WANT TO TALK ABOUT OUR MARRIAGE           CaseyNeistat   \n",
       "1  The Trump Presidency: Last Week Tonight with J...        LastWeekTonight   \n",
       "2  Racist Superman | Rudy Mancuso, King Bach & Le...           Rudy Mancuso   \n",
       "3                   Nickelback Lyrics: Real or Fake?  Good Mythical Morning   \n",
       "4                           I Dare You: GOING BALD!?               nigahiga   \n",
       "\n",
       "   category_id              publish_time  \\\n",
       "0           22  2017-11-13T17:13:01.000Z   \n",
       "1           24  2017-11-13T07:30:00.000Z   \n",
       "2           23  2017-11-12T19:05:24.000Z   \n",
       "3           24  2017-11-13T11:00:04.000Z   \n",
       "4           24  2017-11-12T18:01:41.000Z   \n",
       "\n",
       "                                                tags    views   likes  \\\n",
       "0                                    SHANtell martin   748374   57527   \n",
       "1  last week tonight trump presidency|\"last week ...  2418783   97185   \n",
       "2  racist superman|\"rudy\"|\"mancuso\"|\"king\"|\"bach\"...  3191434  146033   \n",
       "3  rhett and link|\"gmm\"|\"good mythical morning\"|\"...   343168   10172   \n",
       "4  ryan|\"higa\"|\"higatv\"|\"nigahiga\"|\"i dare you\"|\"...  2095731  132235   \n",
       "\n",
       "   dislikes  comment_count                                  thumbnail_link  \\\n",
       "0      2966          15954  https://i.ytimg.com/vi/2kyS6SvSYSE/default.jpg   \n",
       "1      6146          12703  https://i.ytimg.com/vi/1ZAPwfrtAFY/default.jpg   \n",
       "2      5339           8181  https://i.ytimg.com/vi/5qpjK5DgCt4/default.jpg   \n",
       "3       666           2146  https://i.ytimg.com/vi/puqaWrEC7tY/default.jpg   \n",
       "4      1989          17518  https://i.ytimg.com/vi/d380meD0W0M/default.jpg   \n",
       "\n",
       "   comments_disabled  ratings_disabled  video_error_or_removed  \\\n",
       "0              False             False                   False   \n",
       "1              False             False                   False   \n",
       "2              False             False                   False   \n",
       "3              False             False                   False   \n",
       "4              False             False                   False   \n",
       "\n",
       "                                         description  \n",
       "0  SHANTELL'S CHANNEL - https://www.youtube.com/s...  \n",
       "1  One year after the presidential election, John...  \n",
       "2  WATCH MY PREVIOUS VIDEO ▶ \\n\\nSUBSCRIBE ► http...  \n",
       "3  Today we find out if Link is a Nickelback amat...  \n",
       "4  I know it's been a while since we did this sho...  "
      ]
     },
     "execution_count": 17,
     "metadata": {},
     "output_type": "execute_result"
    }
   ],
   "source": [
    "df_us = pd.read_csv(\"../input/youtube-new/USvideos.csv\")\n",
    "df_us.head()"
   ]
  },
  {
   "cell_type": "code",
   "execution_count": 18,
   "id": "62df3aa5",
   "metadata": {
    "execution": {
     "iopub.execute_input": "2022-10-06T20:45:25.930044Z",
     "iopub.status.busy": "2022-10-06T20:45:25.929358Z",
     "iopub.status.idle": "2022-10-06T20:45:25.937214Z",
     "shell.execute_reply": "2022-10-06T20:45:25.936059Z"
    },
    "papermill": {
     "duration": 0.02518,
     "end_time": "2022-10-06T20:45:25.939652",
     "exception": false,
     "start_time": "2022-10-06T20:45:25.914472",
     "status": "completed"
    },
    "tags": []
   },
   "outputs": [
    {
     "data": {
      "text/plain": [
       "array([ True,  True,  True,  True,  True,  True,  True,  True,  True,\n",
       "        True,  True,  True,  True,  True,  True,  True])"
      ]
     },
     "execution_count": 18,
     "metadata": {},
     "output_type": "execute_result"
    }
   ],
   "source": [
    "# def compare_cols(df1, df2, df3):\n",
    "#     if (df1.columns == df2.columns and df1.columns == df3.columns):\n",
    "#         return True\n",
    "#     else:\n",
    "#         return False\n",
    "# print(compare_cols(df_ca, df_gb, df_us))\n",
    "df_ca.columns == df_us.columns"
   ]
  },
  {
   "cell_type": "markdown",
   "id": "fcdeae1d",
   "metadata": {
    "papermill": {
     "duration": 0.013223,
     "end_time": "2022-10-06T20:45:25.966653",
     "exception": false,
     "start_time": "2022-10-06T20:45:25.953430",
     "status": "completed"
    },
    "tags": []
   },
   "source": [
    "Here we see that the columns in df_ca and df_us are the same"
   ]
  },
  {
   "cell_type": "code",
   "execution_count": 19,
   "id": "319e2ba0",
   "metadata": {
    "execution": {
     "iopub.execute_input": "2022-10-06T20:45:25.997216Z",
     "iopub.status.busy": "2022-10-06T20:45:25.996059Z",
     "iopub.status.idle": "2022-10-06T20:45:26.025822Z",
     "shell.execute_reply": "2022-10-06T20:45:26.024275Z"
    },
    "papermill": {
     "duration": 0.047816,
     "end_time": "2022-10-06T20:45:26.028717",
     "exception": false,
     "start_time": "2022-10-06T20:45:25.980901",
     "status": "completed"
    },
    "tags": []
   },
   "outputs": [
    {
     "name": "stdout",
     "output_type": "stream",
     "text": [
      "<class 'pandas.core.frame.DataFrame'>\n",
      "RangeIndex: 40949 entries, 0 to 40948\n",
      "Data columns (total 16 columns):\n",
      " #   Column                  Non-Null Count  Dtype \n",
      "---  ------                  --------------  ----- \n",
      " 0   video_id                40949 non-null  object\n",
      " 1   trending_date           40949 non-null  object\n",
      " 2   title                   40949 non-null  object\n",
      " 3   channel_title           40949 non-null  object\n",
      " 4   category_id             40949 non-null  int64 \n",
      " 5   publish_time            40949 non-null  object\n",
      " 6   tags                    40949 non-null  object\n",
      " 7   views                   40949 non-null  int64 \n",
      " 8   likes                   40949 non-null  int64 \n",
      " 9   dislikes                40949 non-null  int64 \n",
      " 10  comment_count           40949 non-null  int64 \n",
      " 11  thumbnail_link          40949 non-null  object\n",
      " 12  comments_disabled       40949 non-null  bool  \n",
      " 13  ratings_disabled        40949 non-null  bool  \n",
      " 14  video_error_or_removed  40949 non-null  bool  \n",
      " 15  description             40379 non-null  object\n",
      "dtypes: bool(3), int64(5), object(8)\n",
      "memory usage: 4.2+ MB\n"
     ]
    }
   ],
   "source": [
    "df_us.info()"
   ]
  },
  {
   "cell_type": "code",
   "execution_count": 20,
   "id": "17fee246",
   "metadata": {
    "execution": {
     "iopub.execute_input": "2022-10-06T20:45:26.058729Z",
     "iopub.status.busy": "2022-10-06T20:45:26.058289Z",
     "iopub.status.idle": "2022-10-06T20:45:26.093105Z",
     "shell.execute_reply": "2022-10-06T20:45:26.091761Z"
    },
    "papermill": {
     "duration": 0.053057,
     "end_time": "2022-10-06T20:45:26.095865",
     "exception": false,
     "start_time": "2022-10-06T20:45:26.042808",
     "status": "completed"
    },
    "tags": []
   },
   "outputs": [
    {
     "data": {
      "text/html": [
       "<div>\n",
       "<style scoped>\n",
       "    .dataframe tbody tr th:only-of-type {\n",
       "        vertical-align: middle;\n",
       "    }\n",
       "\n",
       "    .dataframe tbody tr th {\n",
       "        vertical-align: top;\n",
       "    }\n",
       "\n",
       "    .dataframe thead th {\n",
       "        text-align: right;\n",
       "    }\n",
       "</style>\n",
       "<table border=\"1\" class=\"dataframe\">\n",
       "  <thead>\n",
       "    <tr style=\"text-align: right;\">\n",
       "      <th></th>\n",
       "      <th>category_id</th>\n",
       "      <th>views</th>\n",
       "      <th>likes</th>\n",
       "      <th>dislikes</th>\n",
       "      <th>comment_count</th>\n",
       "    </tr>\n",
       "  </thead>\n",
       "  <tbody>\n",
       "    <tr>\n",
       "      <th>count</th>\n",
       "      <td>40949.000000</td>\n",
       "      <td>4.094900e+04</td>\n",
       "      <td>4.094900e+04</td>\n",
       "      <td>4.094900e+04</td>\n",
       "      <td>4.094900e+04</td>\n",
       "    </tr>\n",
       "    <tr>\n",
       "      <th>mean</th>\n",
       "      <td>19.972429</td>\n",
       "      <td>2.360785e+06</td>\n",
       "      <td>7.426670e+04</td>\n",
       "      <td>3.711401e+03</td>\n",
       "      <td>8.446804e+03</td>\n",
       "    </tr>\n",
       "    <tr>\n",
       "      <th>std</th>\n",
       "      <td>7.568327</td>\n",
       "      <td>7.394114e+06</td>\n",
       "      <td>2.288853e+05</td>\n",
       "      <td>2.902971e+04</td>\n",
       "      <td>3.743049e+04</td>\n",
       "    </tr>\n",
       "    <tr>\n",
       "      <th>min</th>\n",
       "      <td>1.000000</td>\n",
       "      <td>5.490000e+02</td>\n",
       "      <td>0.000000e+00</td>\n",
       "      <td>0.000000e+00</td>\n",
       "      <td>0.000000e+00</td>\n",
       "    </tr>\n",
       "    <tr>\n",
       "      <th>25%</th>\n",
       "      <td>17.000000</td>\n",
       "      <td>2.423290e+05</td>\n",
       "      <td>5.424000e+03</td>\n",
       "      <td>2.020000e+02</td>\n",
       "      <td>6.140000e+02</td>\n",
       "    </tr>\n",
       "    <tr>\n",
       "      <th>50%</th>\n",
       "      <td>24.000000</td>\n",
       "      <td>6.818610e+05</td>\n",
       "      <td>1.809100e+04</td>\n",
       "      <td>6.310000e+02</td>\n",
       "      <td>1.856000e+03</td>\n",
       "    </tr>\n",
       "    <tr>\n",
       "      <th>75%</th>\n",
       "      <td>25.000000</td>\n",
       "      <td>1.823157e+06</td>\n",
       "      <td>5.541700e+04</td>\n",
       "      <td>1.938000e+03</td>\n",
       "      <td>5.755000e+03</td>\n",
       "    </tr>\n",
       "    <tr>\n",
       "      <th>max</th>\n",
       "      <td>43.000000</td>\n",
       "      <td>2.252119e+08</td>\n",
       "      <td>5.613827e+06</td>\n",
       "      <td>1.674420e+06</td>\n",
       "      <td>1.361580e+06</td>\n",
       "    </tr>\n",
       "  </tbody>\n",
       "</table>\n",
       "</div>"
      ],
      "text/plain": [
       "        category_id         views         likes      dislikes  comment_count\n",
       "count  40949.000000  4.094900e+04  4.094900e+04  4.094900e+04   4.094900e+04\n",
       "mean      19.972429  2.360785e+06  7.426670e+04  3.711401e+03   8.446804e+03\n",
       "std        7.568327  7.394114e+06  2.288853e+05  2.902971e+04   3.743049e+04\n",
       "min        1.000000  5.490000e+02  0.000000e+00  0.000000e+00   0.000000e+00\n",
       "25%       17.000000  2.423290e+05  5.424000e+03  2.020000e+02   6.140000e+02\n",
       "50%       24.000000  6.818610e+05  1.809100e+04  6.310000e+02   1.856000e+03\n",
       "75%       25.000000  1.823157e+06  5.541700e+04  1.938000e+03   5.755000e+03\n",
       "max       43.000000  2.252119e+08  5.613827e+06  1.674420e+06   1.361580e+06"
      ]
     },
     "execution_count": 20,
     "metadata": {},
     "output_type": "execute_result"
    }
   ],
   "source": [
    "df_us.describe()"
   ]
  },
  {
   "cell_type": "code",
   "execution_count": 21,
   "id": "d8af1160",
   "metadata": {
    "execution": {
     "iopub.execute_input": "2022-10-06T20:45:26.126465Z",
     "iopub.status.busy": "2022-10-06T20:45:26.126000Z",
     "iopub.status.idle": "2022-10-06T20:45:26.205095Z",
     "shell.execute_reply": "2022-10-06T20:45:26.203884Z"
    },
    "papermill": {
     "duration": 0.09762,
     "end_time": "2022-10-06T20:45:26.207811",
     "exception": false,
     "start_time": "2022-10-06T20:45:26.110191",
     "status": "completed"
    },
    "tags": []
   },
   "outputs": [
    {
     "data": {
      "text/plain": [
       "video_id                   6351\n",
       "trending_date               205\n",
       "title                      6455\n",
       "channel_title              2207\n",
       "category_id                  16\n",
       "publish_time               6269\n",
       "tags                       6055\n",
       "views                     40478\n",
       "likes                     29850\n",
       "dislikes                   8516\n",
       "comment_count             13773\n",
       "thumbnail_link             6352\n",
       "comments_disabled             2\n",
       "ratings_disabled              2\n",
       "video_error_or_removed        2\n",
       "description                6901\n",
       "dtype: int64"
      ]
     },
     "execution_count": 21,
     "metadata": {},
     "output_type": "execute_result"
    }
   ],
   "source": [
    "df_us.nunique()"
   ]
  },
  {
   "cell_type": "code",
   "execution_count": 22,
   "id": "2b4daf3e",
   "metadata": {
    "execution": {
     "iopub.execute_input": "2022-10-06T20:45:26.239153Z",
     "iopub.status.busy": "2022-10-06T20:45:26.237878Z",
     "iopub.status.idle": "2022-10-06T20:45:26.322131Z",
     "shell.execute_reply": "2022-10-06T20:45:26.320948Z"
    },
    "papermill": {
     "duration": 0.102665,
     "end_time": "2022-10-06T20:45:26.324977",
     "exception": false,
     "start_time": "2022-10-06T20:45:26.222312",
     "status": "completed"
    },
    "tags": []
   },
   "outputs": [
    {
     "data": {
      "text/plain": [
       "48"
      ]
     },
     "execution_count": 22,
     "metadata": {},
     "output_type": "execute_result"
    }
   ],
   "source": [
    "df_us.duplicated().sum()"
   ]
  },
  {
   "cell_type": "markdown",
   "id": "2a9001c0",
   "metadata": {
    "papermill": {
     "duration": 0.014219,
     "end_time": "2022-10-06T20:45:26.353779",
     "exception": false,
     "start_time": "2022-10-06T20:45:26.339560",
     "status": "completed"
    },
    "tags": []
   },
   "source": [
    "We have 48 duplicated columns in the us dataset."
   ]
  },
  {
   "cell_type": "code",
   "execution_count": 23,
   "id": "735ad853",
   "metadata": {
    "execution": {
     "iopub.execute_input": "2022-10-06T20:45:26.385134Z",
     "iopub.status.busy": "2022-10-06T20:45:26.384206Z",
     "iopub.status.idle": "2022-10-06T20:45:26.475757Z",
     "shell.execute_reply": "2022-10-06T20:45:26.474429Z"
    },
    "papermill": {
     "duration": 0.110264,
     "end_time": "2022-10-06T20:45:26.478582",
     "exception": false,
     "start_time": "2022-10-06T20:45:26.368318",
     "status": "completed"
    },
    "tags": []
   },
   "outputs": [
    {
     "data": {
      "text/html": [
       "<div>\n",
       "<style scoped>\n",
       "    .dataframe tbody tr th:only-of-type {\n",
       "        vertical-align: middle;\n",
       "    }\n",
       "\n",
       "    .dataframe tbody tr th {\n",
       "        vertical-align: top;\n",
       "    }\n",
       "\n",
       "    .dataframe thead th {\n",
       "        text-align: right;\n",
       "    }\n",
       "</style>\n",
       "<table border=\"1\" class=\"dataframe\">\n",
       "  <thead>\n",
       "    <tr style=\"text-align: right;\">\n",
       "      <th></th>\n",
       "      <th>video_id</th>\n",
       "      <th>trending_date</th>\n",
       "      <th>title</th>\n",
       "      <th>channel_title</th>\n",
       "      <th>category_id</th>\n",
       "      <th>publish_time</th>\n",
       "      <th>tags</th>\n",
       "      <th>views</th>\n",
       "      <th>likes</th>\n",
       "      <th>dislikes</th>\n",
       "      <th>comment_count</th>\n",
       "      <th>thumbnail_link</th>\n",
       "      <th>comments_disabled</th>\n",
       "      <th>ratings_disabled</th>\n",
       "      <th>video_error_or_removed</th>\n",
       "      <th>description</th>\n",
       "    </tr>\n",
       "  </thead>\n",
       "  <tbody>\n",
       "    <tr>\n",
       "      <th>34899</th>\n",
       "      <td>QBL8IRJ5yHU</td>\n",
       "      <td>18.15.05</td>\n",
       "      <td>Why I'm So Scared (being myself and crying too...</td>\n",
       "      <td>grav3yardgirl</td>\n",
       "      <td>26</td>\n",
       "      <td>2018-05-14T19:00:01.000Z</td>\n",
       "      <td>beauty|\"how to\"|\"makeup\"|\"howto\"|\"style\"|\"fash...</td>\n",
       "      <td>1469627</td>\n",
       "      <td>188652</td>\n",
       "      <td>3124</td>\n",
       "      <td>33032</td>\n",
       "      <td>https://i.ytimg.com/vi/QBL8IRJ5yHU/default.jpg</td>\n",
       "      <td>False</td>\n",
       "      <td>False</td>\n",
       "      <td>False</td>\n",
       "      <td>I will never be able to say Thank You enough.....</td>\n",
       "    </tr>\n",
       "    <tr>\n",
       "      <th>34900</th>\n",
       "      <td>t4pRQ0jn23Q</td>\n",
       "      <td>18.15.05</td>\n",
       "      <td>YoungBoy Never Broke Again Goes Sneaker Shoppi...</td>\n",
       "      <td>Complex</td>\n",
       "      <td>24</td>\n",
       "      <td>2018-05-14T14:00:03.000Z</td>\n",
       "      <td>sneakerhead|\"complex\"|\"complex originals\"|\"sne...</td>\n",
       "      <td>1199587</td>\n",
       "      <td>49709</td>\n",
       "      <td>2380</td>\n",
       "      <td>7261</td>\n",
       "      <td>https://i.ytimg.com/vi/t4pRQ0jn23Q/default.jpg</td>\n",
       "      <td>False</td>\n",
       "      <td>False</td>\n",
       "      <td>False</td>\n",
       "      <td>YoungBoy Never Broke Again goes Sneaker Shoppi...</td>\n",
       "    </tr>\n",
       "    <tr>\n",
       "      <th>34901</th>\n",
       "      <td>j4KvrAUjn6c</td>\n",
       "      <td>18.15.05</td>\n",
       "      <td>WE MADE OUR MOM CRY...HER DREAM CAME TRUE!</td>\n",
       "      <td>Lucas and Marcus</td>\n",
       "      <td>24</td>\n",
       "      <td>2018-05-13T18:03:56.000Z</td>\n",
       "      <td>Lucas and Marcus|\"Marcus and Lucas\"|\"Dobre\"|\"D...</td>\n",
       "      <td>3906727</td>\n",
       "      <td>77378</td>\n",
       "      <td>12160</td>\n",
       "      <td>15874</td>\n",
       "      <td>https://i.ytimg.com/vi/j4KvrAUjn6c/default.jpg</td>\n",
       "      <td>False</td>\n",
       "      <td>False</td>\n",
       "      <td>False</td>\n",
       "      <td>BEST MOM EVER! WANT TO SEE US IN NYC &amp; NJ?!BUY...</td>\n",
       "    </tr>\n",
       "    <tr>\n",
       "      <th>34902</th>\n",
       "      <td>MAjY8mCTXWk</td>\n",
       "      <td>18.15.05</td>\n",
       "      <td>周杰倫 Jay Chou【不愛我就拉倒 If You Don't Love Me, It's...</td>\n",
       "      <td>杰威爾音樂 JVR Music</td>\n",
       "      <td>10</td>\n",
       "      <td>2018-05-14T15:59:47.000Z</td>\n",
       "      <td>周杰倫|\"Jay\"|\"Chou\"|\"周董\"|\"周杰伦\"|\"周傑倫\"|\"杰威尔\"|\"周周\"|\"...</td>\n",
       "      <td>916128</td>\n",
       "      <td>40485</td>\n",
       "      <td>1042</td>\n",
       "      <td>4746</td>\n",
       "      <td>https://i.ytimg.com/vi/MAjY8mCTXWk/default.jpg</td>\n",
       "      <td>False</td>\n",
       "      <td>False</td>\n",
       "      <td>False</td>\n",
       "      <td>詞：周杰倫、宋健彰（彈頭）  曲：周杰倫憂鬱型男的走心旋律  用英式搖滾宣洩情傷不愛我就拉倒...</td>\n",
       "    </tr>\n",
       "    <tr>\n",
       "      <th>34903</th>\n",
       "      <td>xhs8tf1v__w</td>\n",
       "      <td>18.15.05</td>\n",
       "      <td>Terry Crews Answers the Web's Most Searched Qu...</td>\n",
       "      <td>WIRED</td>\n",
       "      <td>24</td>\n",
       "      <td>2018-05-14T16:00:29.000Z</td>\n",
       "      <td>autocomplete|\"deadpool 2\"|\"google autocomplete...</td>\n",
       "      <td>343967</td>\n",
       "      <td>16988</td>\n",
       "      <td>132</td>\n",
       "      <td>1308</td>\n",
       "      <td>https://i.ytimg.com/vi/xhs8tf1v__w/default.jpg</td>\n",
       "      <td>False</td>\n",
       "      <td>False</td>\n",
       "      <td>False</td>\n",
       "      <td>Terry Crews takes the WIRED Autocomplete Inter...</td>\n",
       "    </tr>\n",
       "  </tbody>\n",
       "</table>\n",
       "</div>"
      ],
      "text/plain": [
       "          video_id trending_date  \\\n",
       "34899  QBL8IRJ5yHU      18.15.05   \n",
       "34900  t4pRQ0jn23Q      18.15.05   \n",
       "34901  j4KvrAUjn6c      18.15.05   \n",
       "34902  MAjY8mCTXWk      18.15.05   \n",
       "34903  xhs8tf1v__w      18.15.05   \n",
       "\n",
       "                                                   title     channel_title  \\\n",
       "34899  Why I'm So Scared (being myself and crying too...     grav3yardgirl   \n",
       "34900  YoungBoy Never Broke Again Goes Sneaker Shoppi...           Complex   \n",
       "34901         WE MADE OUR MOM CRY...HER DREAM CAME TRUE!  Lucas and Marcus   \n",
       "34902  周杰倫 Jay Chou【不愛我就拉倒 If You Don't Love Me, It's...   杰威爾音樂 JVR Music   \n",
       "34903  Terry Crews Answers the Web's Most Searched Qu...             WIRED   \n",
       "\n",
       "       category_id              publish_time  \\\n",
       "34899           26  2018-05-14T19:00:01.000Z   \n",
       "34900           24  2018-05-14T14:00:03.000Z   \n",
       "34901           24  2018-05-13T18:03:56.000Z   \n",
       "34902           10  2018-05-14T15:59:47.000Z   \n",
       "34903           24  2018-05-14T16:00:29.000Z   \n",
       "\n",
       "                                                    tags    views   likes  \\\n",
       "34899  beauty|\"how to\"|\"makeup\"|\"howto\"|\"style\"|\"fash...  1469627  188652   \n",
       "34900  sneakerhead|\"complex\"|\"complex originals\"|\"sne...  1199587   49709   \n",
       "34901  Lucas and Marcus|\"Marcus and Lucas\"|\"Dobre\"|\"D...  3906727   77378   \n",
       "34902  周杰倫|\"Jay\"|\"Chou\"|\"周董\"|\"周杰伦\"|\"周傑倫\"|\"杰威尔\"|\"周周\"|\"...   916128   40485   \n",
       "34903  autocomplete|\"deadpool 2\"|\"google autocomplete...   343967   16988   \n",
       "\n",
       "       dislikes  comment_count  \\\n",
       "34899      3124          33032   \n",
       "34900      2380           7261   \n",
       "34901     12160          15874   \n",
       "34902      1042           4746   \n",
       "34903       132           1308   \n",
       "\n",
       "                                       thumbnail_link  comments_disabled  \\\n",
       "34899  https://i.ytimg.com/vi/QBL8IRJ5yHU/default.jpg              False   \n",
       "34900  https://i.ytimg.com/vi/t4pRQ0jn23Q/default.jpg              False   \n",
       "34901  https://i.ytimg.com/vi/j4KvrAUjn6c/default.jpg              False   \n",
       "34902  https://i.ytimg.com/vi/MAjY8mCTXWk/default.jpg              False   \n",
       "34903  https://i.ytimg.com/vi/xhs8tf1v__w/default.jpg              False   \n",
       "\n",
       "       ratings_disabled  video_error_or_removed  \\\n",
       "34899             False                   False   \n",
       "34900             False                   False   \n",
       "34901             False                   False   \n",
       "34902             False                   False   \n",
       "34903             False                   False   \n",
       "\n",
       "                                             description  \n",
       "34899  I will never be able to say Thank You enough.....  \n",
       "34900  YoungBoy Never Broke Again goes Sneaker Shoppi...  \n",
       "34901  BEST MOM EVER! WANT TO SEE US IN NYC & NJ?!BUY...  \n",
       "34902  詞：周杰倫、宋健彰（彈頭）  曲：周杰倫憂鬱型男的走心旋律  用英式搖滾宣洩情傷不愛我就拉倒...  \n",
       "34903  Terry Crews takes the WIRED Autocomplete Inter...  "
      ]
     },
     "execution_count": 23,
     "metadata": {},
     "output_type": "execute_result"
    }
   ],
   "source": [
    "df_us[df_us.duplicated() == True].head()"
   ]
  },
  {
   "cell_type": "code",
   "execution_count": 24,
   "id": "e13a5034",
   "metadata": {
    "execution": {
     "iopub.execute_input": "2022-10-06T20:45:26.510791Z",
     "iopub.status.busy": "2022-10-06T20:45:26.509936Z",
     "iopub.status.idle": "2022-10-06T20:45:26.673968Z",
     "shell.execute_reply": "2022-10-06T20:45:26.672815Z"
    },
    "papermill": {
     "duration": 0.182634,
     "end_time": "2022-10-06T20:45:26.676403",
     "exception": false,
     "start_time": "2022-10-06T20:45:26.493769",
     "status": "completed"
    },
    "tags": []
   },
   "outputs": [
    {
     "data": {
      "text/plain": [
       "0"
      ]
     },
     "execution_count": 24,
     "metadata": {},
     "output_type": "execute_result"
    }
   ],
   "source": [
    "# removing duplicates and confirming\n",
    "df_us.drop_duplicates(inplace=True)\n",
    "df_us.duplicated().sum()"
   ]
  },
  {
   "cell_type": "markdown",
   "id": "7cedb5de",
   "metadata": {
    "papermill": {
     "duration": 0.015005,
     "end_time": "2022-10-06T20:45:26.706402",
     "exception": false,
     "start_time": "2022-10-06T20:45:26.691397",
     "status": "completed"
    },
    "tags": []
   },
   "source": [
    "### Merging the data"
   ]
  },
  {
   "cell_type": "code",
   "execution_count": 25,
   "id": "8c7f2680",
   "metadata": {
    "execution": {
     "iopub.execute_input": "2022-10-06T20:45:26.738280Z",
     "iopub.status.busy": "2022-10-06T20:45:26.737826Z",
     "iopub.status.idle": "2022-10-06T20:45:26.784699Z",
     "shell.execute_reply": "2022-10-06T20:45:26.783533Z"
    },
    "papermill": {
     "duration": 0.066015,
     "end_time": "2022-10-06T20:45:26.787488",
     "exception": false,
     "start_time": "2022-10-06T20:45:26.721473",
     "status": "completed"
    },
    "tags": []
   },
   "outputs": [],
   "source": [
    "df = df_ca.append([df_gb, df_us])"
   ]
  },
  {
   "cell_type": "code",
   "execution_count": 26,
   "id": "9756b7eb",
   "metadata": {
    "execution": {
     "iopub.execute_input": "2022-10-06T20:45:26.819864Z",
     "iopub.status.busy": "2022-10-06T20:45:26.819441Z",
     "iopub.status.idle": "2022-10-06T20:45:26.885486Z",
     "shell.execute_reply": "2022-10-06T20:45:26.884312Z"
    },
    "papermill": {
     "duration": 0.085277,
     "end_time": "2022-10-06T20:45:26.888200",
     "exception": false,
     "start_time": "2022-10-06T20:45:26.802923",
     "status": "completed"
    },
    "tags": []
   },
   "outputs": [
    {
     "name": "stdout",
     "output_type": "stream",
     "text": [
      "<class 'pandas.core.frame.DataFrame'>\n",
      "Int64Index: 120527 entries, 0 to 40948\n",
      "Data columns (total 16 columns):\n",
      " #   Column                  Non-Null Count   Dtype \n",
      "---  ------                  --------------   ----- \n",
      " 0   video_id                120527 non-null  object\n",
      " 1   trending_date           120527 non-null  object\n",
      " 2   title                   120527 non-null  object\n",
      " 3   channel_title           120527 non-null  object\n",
      " 4   category_id             120527 non-null  int64 \n",
      " 5   publish_time            120527 non-null  object\n",
      " 6   tags                    120527 non-null  object\n",
      " 7   views                   120527 non-null  int64 \n",
      " 8   likes                   120527 non-null  int64 \n",
      " 9   dislikes                120527 non-null  int64 \n",
      " 10  comment_count           120527 non-null  int64 \n",
      " 11  thumbnail_link          120527 non-null  object\n",
      " 12  comments_disabled       120527 non-null  bool  \n",
      " 13  ratings_disabled        120527 non-null  bool  \n",
      " 14  video_error_or_removed  120527 non-null  bool  \n",
      " 15  description             118054 non-null  object\n",
      "dtypes: bool(3), int64(5), object(8)\n",
      "memory usage: 13.2+ MB\n"
     ]
    }
   ],
   "source": [
    "df.info()"
   ]
  },
  {
   "cell_type": "code",
   "execution_count": 27,
   "id": "e460418a",
   "metadata": {
    "execution": {
     "iopub.execute_input": "2022-10-06T20:45:26.920398Z",
     "iopub.status.busy": "2022-10-06T20:45:26.919966Z",
     "iopub.status.idle": "2022-10-06T20:45:27.190381Z",
     "shell.execute_reply": "2022-10-06T20:45:27.189139Z"
    },
    "papermill": {
     "duration": 0.289573,
     "end_time": "2022-10-06T20:45:27.192981",
     "exception": false,
     "start_time": "2022-10-06T20:45:26.903408",
     "status": "completed"
    },
    "tags": []
   },
   "outputs": [
    {
     "data": {
      "text/plain": [
       "9133"
      ]
     },
     "execution_count": 27,
     "metadata": {},
     "output_type": "execute_result"
    }
   ],
   "source": [
    "df.duplicated().sum()"
   ]
  },
  {
   "cell_type": "code",
   "execution_count": 28,
   "id": "7b974280",
   "metadata": {
    "execution": {
     "iopub.execute_input": "2022-10-06T20:45:27.225215Z",
     "iopub.status.busy": "2022-10-06T20:45:27.224785Z",
     "iopub.status.idle": "2022-10-06T20:45:27.547137Z",
     "shell.execute_reply": "2022-10-06T20:45:27.545937Z"
    },
    "papermill": {
     "duration": 0.341428,
     "end_time": "2022-10-06T20:45:27.549998",
     "exception": false,
     "start_time": "2022-10-06T20:45:27.208570",
     "status": "completed"
    },
    "tags": []
   },
   "outputs": [
    {
     "data": {
      "text/html": [
       "<div>\n",
       "<style scoped>\n",
       "    .dataframe tbody tr th:only-of-type {\n",
       "        vertical-align: middle;\n",
       "    }\n",
       "\n",
       "    .dataframe tbody tr th {\n",
       "        vertical-align: top;\n",
       "    }\n",
       "\n",
       "    .dataframe thead th {\n",
       "        text-align: right;\n",
       "    }\n",
       "</style>\n",
       "<table border=\"1\" class=\"dataframe\">\n",
       "  <thead>\n",
       "    <tr style=\"text-align: right;\">\n",
       "      <th></th>\n",
       "      <th>video_id</th>\n",
       "      <th>trending_date</th>\n",
       "      <th>title</th>\n",
       "      <th>channel_title</th>\n",
       "      <th>category_id</th>\n",
       "      <th>publish_time</th>\n",
       "      <th>tags</th>\n",
       "      <th>views</th>\n",
       "      <th>likes</th>\n",
       "      <th>dislikes</th>\n",
       "      <th>comment_count</th>\n",
       "      <th>thumbnail_link</th>\n",
       "      <th>comments_disabled</th>\n",
       "      <th>ratings_disabled</th>\n",
       "      <th>video_error_or_removed</th>\n",
       "      <th>description</th>\n",
       "    </tr>\n",
       "  </thead>\n",
       "  <tbody>\n",
       "    <tr>\n",
       "      <th>12</th>\n",
       "      <td>NVCqz2BDfcQ</td>\n",
       "      <td>17.14.11</td>\n",
       "      <td>Gucci Mane  - Curve (ft. The Weeknd)</td>\n",
       "      <td>OfficialGucciMane</td>\n",
       "      <td>10</td>\n",
       "      <td>2017-11-10T17:18:13.000Z</td>\n",
       "      <td>Gucci Mane|\"The Weeknd\"|\"Curve\"|\"Official\"|\"Mu...</td>\n",
       "      <td>946859</td>\n",
       "      <td>37986</td>\n",
       "      <td>816</td>\n",
       "      <td>2006</td>\n",
       "      <td>https://i.ytimg.com/vi/NVCqz2BDfcQ/default.jpg</td>\n",
       "      <td>False</td>\n",
       "      <td>False</td>\n",
       "      <td>False</td>\n",
       "      <td>Gucci Mane - Curve feat. The Weeknd\\n\\n Mr. Da...</td>\n",
       "    </tr>\n",
       "    <tr>\n",
       "      <th>203</th>\n",
       "      <td>gjXrm2Q-te4</td>\n",
       "      <td>17.15.11</td>\n",
       "      <td>Jimmy Fallon Pays Tribute to His Mother Gloria</td>\n",
       "      <td>The Tonight Show Starring Jimmy Fallon</td>\n",
       "      <td>23</td>\n",
       "      <td>2017-11-14T04:55:24.000Z</td>\n",
       "      <td>Jimmy Fallon|\"Tonight Show Starring Jimmy Fall...</td>\n",
       "      <td>1611093</td>\n",
       "      <td>58474</td>\n",
       "      <td>837</td>\n",
       "      <td>3294</td>\n",
       "      <td>https://i.ytimg.com/vi/gjXrm2Q-te4/default.jpg</td>\n",
       "      <td>False</td>\n",
       "      <td>False</td>\n",
       "      <td>False</td>\n",
       "      <td>Jimmy celebrates the life and love of his mom,...</td>\n",
       "    </tr>\n",
       "    <tr>\n",
       "      <th>214</th>\n",
       "      <td>rvkm8DPbWgc</td>\n",
       "      <td>17.15.11</td>\n",
       "      <td>Marc Maron on the Louis C.K Allegations (11/13...</td>\n",
       "      <td>Listen to this also</td>\n",
       "      <td>23</td>\n",
       "      <td>2017-11-13T14:43:47.000Z</td>\n",
       "      <td>Marc Maron|\"Louis C.K\"|\"WTF\"|\"Maron\"|\"Glow\"|\"A...</td>\n",
       "      <td>198666</td>\n",
       "      <td>1110</td>\n",
       "      <td>389</td>\n",
       "      <td>1020</td>\n",
       "      <td>https://i.ytimg.com/vi/rvkm8DPbWgc/default.jpg</td>\n",
       "      <td>False</td>\n",
       "      <td>False</td>\n",
       "      <td>False</td>\n",
       "      <td>Marc talks about Louis on today's episode of W...</td>\n",
       "    </tr>\n",
       "    <tr>\n",
       "      <th>219</th>\n",
       "      <td>n1WpP7iowLc</td>\n",
       "      <td>17.15.11</td>\n",
       "      <td>Eminem - Walk On Water (Audio) ft. Beyoncé</td>\n",
       "      <td>EminemVEVO</td>\n",
       "      <td>10</td>\n",
       "      <td>2017-11-10T17:00:03.000Z</td>\n",
       "      <td>Eminem|\"Walk\"|\"On\"|\"Water\"|\"Aftermath/Shady/In...</td>\n",
       "      <td>20539417</td>\n",
       "      <td>840642</td>\n",
       "      <td>47715</td>\n",
       "      <td>124236</td>\n",
       "      <td>https://i.ytimg.com/vi/n1WpP7iowLc/default.jpg</td>\n",
       "      <td>False</td>\n",
       "      <td>False</td>\n",
       "      <td>False</td>\n",
       "      <td>Eminem's new track Walk on Water ft. Beyoncé i...</td>\n",
       "    </tr>\n",
       "    <tr>\n",
       "      <th>228</th>\n",
       "      <td>2Vv-BfVoq4g</td>\n",
       "      <td>17.15.11</td>\n",
       "      <td>Ed Sheeran - Perfect (Official Music Video)</td>\n",
       "      <td>Ed Sheeran</td>\n",
       "      <td>10</td>\n",
       "      <td>2017-11-09T11:04:14.000Z</td>\n",
       "      <td>edsheeran|\"ed sheeran\"|\"acoustic\"|\"live\"|\"cove...</td>\n",
       "      <td>39082222</td>\n",
       "      <td>1721384</td>\n",
       "      <td>23137</td>\n",
       "      <td>90352</td>\n",
       "      <td>https://i.ytimg.com/vi/2Vv-BfVoq4g/default.jpg</td>\n",
       "      <td>False</td>\n",
       "      <td>False</td>\n",
       "      <td>False</td>\n",
       "      <td>🎧: https://ad.gt/yt-perfect\\n💰: https://atlant...</td>\n",
       "    </tr>\n",
       "  </tbody>\n",
       "</table>\n",
       "</div>"
      ],
      "text/plain": [
       "        video_id trending_date  \\\n",
       "12   NVCqz2BDfcQ      17.14.11   \n",
       "203  gjXrm2Q-te4      17.15.11   \n",
       "214  rvkm8DPbWgc      17.15.11   \n",
       "219  n1WpP7iowLc      17.15.11   \n",
       "228  2Vv-BfVoq4g      17.15.11   \n",
       "\n",
       "                                                 title  \\\n",
       "12                Gucci Mane  - Curve (ft. The Weeknd)   \n",
       "203     Jimmy Fallon Pays Tribute to His Mother Gloria   \n",
       "214  Marc Maron on the Louis C.K Allegations (11/13...   \n",
       "219         Eminem - Walk On Water (Audio) ft. Beyoncé   \n",
       "228        Ed Sheeran - Perfect (Official Music Video)   \n",
       "\n",
       "                              channel_title  category_id  \\\n",
       "12                        OfficialGucciMane           10   \n",
       "203  The Tonight Show Starring Jimmy Fallon           23   \n",
       "214                     Listen to this also           23   \n",
       "219                              EminemVEVO           10   \n",
       "228                              Ed Sheeran           10   \n",
       "\n",
       "                 publish_time  \\\n",
       "12   2017-11-10T17:18:13.000Z   \n",
       "203  2017-11-14T04:55:24.000Z   \n",
       "214  2017-11-13T14:43:47.000Z   \n",
       "219  2017-11-10T17:00:03.000Z   \n",
       "228  2017-11-09T11:04:14.000Z   \n",
       "\n",
       "                                                  tags     views    likes  \\\n",
       "12   Gucci Mane|\"The Weeknd\"|\"Curve\"|\"Official\"|\"Mu...    946859    37986   \n",
       "203  Jimmy Fallon|\"Tonight Show Starring Jimmy Fall...   1611093    58474   \n",
       "214  Marc Maron|\"Louis C.K\"|\"WTF\"|\"Maron\"|\"Glow\"|\"A...    198666     1110   \n",
       "219  Eminem|\"Walk\"|\"On\"|\"Water\"|\"Aftermath/Shady/In...  20539417   840642   \n",
       "228  edsheeran|\"ed sheeran\"|\"acoustic\"|\"live\"|\"cove...  39082222  1721384   \n",
       "\n",
       "     dislikes  comment_count                                  thumbnail_link  \\\n",
       "12        816           2006  https://i.ytimg.com/vi/NVCqz2BDfcQ/default.jpg   \n",
       "203       837           3294  https://i.ytimg.com/vi/gjXrm2Q-te4/default.jpg   \n",
       "214       389           1020  https://i.ytimg.com/vi/rvkm8DPbWgc/default.jpg   \n",
       "219     47715         124236  https://i.ytimg.com/vi/n1WpP7iowLc/default.jpg   \n",
       "228     23137          90352  https://i.ytimg.com/vi/2Vv-BfVoq4g/default.jpg   \n",
       "\n",
       "     comments_disabled  ratings_disabled  video_error_or_removed  \\\n",
       "12               False             False                   False   \n",
       "203              False             False                   False   \n",
       "214              False             False                   False   \n",
       "219              False             False                   False   \n",
       "228              False             False                   False   \n",
       "\n",
       "                                           description  \n",
       "12   Gucci Mane - Curve feat. The Weeknd\\n\\n Mr. Da...  \n",
       "203  Jimmy celebrates the life and love of his mom,...  \n",
       "214  Marc talks about Louis on today's episode of W...  \n",
       "219  Eminem's new track Walk on Water ft. Beyoncé i...  \n",
       "228  🎧: https://ad.gt/yt-perfect\\n💰: https://atlant...  "
      ]
     },
     "execution_count": 28,
     "metadata": {},
     "output_type": "execute_result"
    }
   ],
   "source": [
    "duplicates = df.loc[df.duplicated(keep='first'), :]\n",
    "duplicates.head()"
   ]
  },
  {
   "cell_type": "code",
   "execution_count": 29,
   "id": "0436ea39",
   "metadata": {
    "execution": {
     "iopub.execute_input": "2022-10-06T20:45:27.582885Z",
     "iopub.status.busy": "2022-10-06T20:45:27.582472Z",
     "iopub.status.idle": "2022-10-06T20:45:27.606749Z",
     "shell.execute_reply": "2022-10-06T20:45:27.605422Z"
    },
    "papermill": {
     "duration": 0.044682,
     "end_time": "2022-10-06T20:45:27.610264",
     "exception": false,
     "start_time": "2022-10-06T20:45:27.565582",
     "status": "completed"
    },
    "tags": []
   },
   "outputs": [
    {
     "data": {
      "text/html": [
       "<div>\n",
       "<style scoped>\n",
       "    .dataframe tbody tr th:only-of-type {\n",
       "        vertical-align: middle;\n",
       "    }\n",
       "\n",
       "    .dataframe tbody tr th {\n",
       "        vertical-align: top;\n",
       "    }\n",
       "\n",
       "    .dataframe thead th {\n",
       "        text-align: right;\n",
       "    }\n",
       "</style>\n",
       "<table border=\"1\" class=\"dataframe\">\n",
       "  <thead>\n",
       "    <tr style=\"text-align: right;\">\n",
       "      <th></th>\n",
       "      <th>video_id</th>\n",
       "      <th>trending_date</th>\n",
       "      <th>title</th>\n",
       "      <th>channel_title</th>\n",
       "      <th>category_id</th>\n",
       "      <th>publish_time</th>\n",
       "      <th>tags</th>\n",
       "      <th>views</th>\n",
       "      <th>likes</th>\n",
       "      <th>dislikes</th>\n",
       "      <th>comment_count</th>\n",
       "      <th>thumbnail_link</th>\n",
       "      <th>comments_disabled</th>\n",
       "      <th>ratings_disabled</th>\n",
       "      <th>video_error_or_removed</th>\n",
       "      <th>description</th>\n",
       "    </tr>\n",
       "  </thead>\n",
       "  <tbody>\n",
       "    <tr>\n",
       "      <th>203</th>\n",
       "      <td>gjXrm2Q-te4</td>\n",
       "      <td>17.15.11</td>\n",
       "      <td>Jimmy Fallon Pays Tribute to His Mother Gloria</td>\n",
       "      <td>The Tonight Show Starring Jimmy Fallon</td>\n",
       "      <td>23</td>\n",
       "      <td>2017-11-14T04:55:24.000Z</td>\n",
       "      <td>Jimmy Fallon|\"Tonight Show Starring Jimmy Fall...</td>\n",
       "      <td>1611093</td>\n",
       "      <td>58474</td>\n",
       "      <td>837</td>\n",
       "      <td>3294</td>\n",
       "      <td>https://i.ytimg.com/vi/gjXrm2Q-te4/default.jpg</td>\n",
       "      <td>False</td>\n",
       "      <td>False</td>\n",
       "      <td>False</td>\n",
       "      <td>Jimmy celebrates the life and love of his mom,...</td>\n",
       "    </tr>\n",
       "    <tr>\n",
       "      <th>206</th>\n",
       "      <td>gjXrm2Q-te4</td>\n",
       "      <td>17.15.11</td>\n",
       "      <td>Jimmy Fallon Pays Tribute to His Mother Gloria</td>\n",
       "      <td>The Tonight Show Starring Jimmy Fallon</td>\n",
       "      <td>23</td>\n",
       "      <td>2017-11-14T04:55:24.000Z</td>\n",
       "      <td>Jimmy Fallon|\"Tonight Show Starring Jimmy Fall...</td>\n",
       "      <td>1611093</td>\n",
       "      <td>58474</td>\n",
       "      <td>837</td>\n",
       "      <td>3294</td>\n",
       "      <td>https://i.ytimg.com/vi/gjXrm2Q-te4/default.jpg</td>\n",
       "      <td>False</td>\n",
       "      <td>False</td>\n",
       "      <td>False</td>\n",
       "      <td>Jimmy celebrates the life and love of his mom,...</td>\n",
       "    </tr>\n",
       "  </tbody>\n",
       "</table>\n",
       "</div>"
      ],
      "text/plain": [
       "        video_id trending_date  \\\n",
       "203  gjXrm2Q-te4      17.15.11   \n",
       "206  gjXrm2Q-te4      17.15.11   \n",
       "\n",
       "                                              title  \\\n",
       "203  Jimmy Fallon Pays Tribute to His Mother Gloria   \n",
       "206  Jimmy Fallon Pays Tribute to His Mother Gloria   \n",
       "\n",
       "                              channel_title  category_id  \\\n",
       "203  The Tonight Show Starring Jimmy Fallon           23   \n",
       "206  The Tonight Show Starring Jimmy Fallon           23   \n",
       "\n",
       "                 publish_time  \\\n",
       "203  2017-11-14T04:55:24.000Z   \n",
       "206  2017-11-14T04:55:24.000Z   \n",
       "\n",
       "                                                  tags    views  likes  \\\n",
       "203  Jimmy Fallon|\"Tonight Show Starring Jimmy Fall...  1611093  58474   \n",
       "206  Jimmy Fallon|\"Tonight Show Starring Jimmy Fall...  1611093  58474   \n",
       "\n",
       "     dislikes  comment_count                                  thumbnail_link  \\\n",
       "203       837           3294  https://i.ytimg.com/vi/gjXrm2Q-te4/default.jpg   \n",
       "206       837           3294  https://i.ytimg.com/vi/gjXrm2Q-te4/default.jpg   \n",
       "\n",
       "     comments_disabled  ratings_disabled  video_error_or_removed  \\\n",
       "203              False             False                   False   \n",
       "206              False             False                   False   \n",
       "\n",
       "                                           description  \n",
       "203  Jimmy celebrates the life and love of his mom,...  \n",
       "206  Jimmy celebrates the life and love of his mom,...  "
      ]
     },
     "execution_count": 29,
     "metadata": {},
     "output_type": "execute_result"
    }
   ],
   "source": [
    "# getting an example from the duplicates table, I just wanted to confirm that some values are duplicated\n",
    "# more than once\n",
    "duplicates.query('views == 1611093')"
   ]
  },
  {
   "cell_type": "code",
   "execution_count": 30,
   "id": "c6a9a63f",
   "metadata": {
    "execution": {
     "iopub.execute_input": "2022-10-06T20:45:27.643924Z",
     "iopub.status.busy": "2022-10-06T20:45:27.642749Z",
     "iopub.status.idle": "2022-10-06T20:45:27.648046Z",
     "shell.execute_reply": "2022-10-06T20:45:27.646918Z"
    },
    "papermill": {
     "duration": 0.024611,
     "end_time": "2022-10-06T20:45:27.650438",
     "exception": false,
     "start_time": "2022-10-06T20:45:27.625827",
     "status": "completed"
    },
    "tags": []
   },
   "outputs": [],
   "source": [
    "# deleting the duplicates table\n",
    "# del duplicates\n",
    "\n",
    "# confirming deletion\n",
    "# duplicates"
   ]
  },
  {
   "cell_type": "code",
   "execution_count": 31,
   "id": "ebe25dd4",
   "metadata": {
    "execution": {
     "iopub.execute_input": "2022-10-06T20:45:27.683497Z",
     "iopub.status.busy": "2022-10-06T20:45:27.682781Z",
     "iopub.status.idle": "2022-10-06T20:45:28.206026Z",
     "shell.execute_reply": "2022-10-06T20:45:28.205140Z"
    },
    "papermill": {
     "duration": 0.542414,
     "end_time": "2022-10-06T20:45:28.208338",
     "exception": false,
     "start_time": "2022-10-06T20:45:27.665924",
     "status": "completed"
    },
    "tags": []
   },
   "outputs": [
    {
     "data": {
      "text/plain": [
       "0"
      ]
     },
     "execution_count": 31,
     "metadata": {},
     "output_type": "execute_result"
    }
   ],
   "source": [
    "df.drop_duplicates(inplace=True)\n",
    "df.duplicated().sum()"
   ]
  },
  {
   "cell_type": "code",
   "execution_count": 32,
   "id": "9f919789",
   "metadata": {
    "execution": {
     "iopub.execute_input": "2022-10-06T20:45:28.241813Z",
     "iopub.status.busy": "2022-10-06T20:45:28.241157Z",
     "iopub.status.idle": "2022-10-06T20:45:28.302508Z",
     "shell.execute_reply": "2022-10-06T20:45:28.301196Z"
    },
    "papermill": {
     "duration": 0.081671,
     "end_time": "2022-10-06T20:45:28.305606",
     "exception": false,
     "start_time": "2022-10-06T20:45:28.223935",
     "status": "completed"
    },
    "tags": []
   },
   "outputs": [
    {
     "name": "stdout",
     "output_type": "stream",
     "text": [
      "<class 'pandas.core.frame.DataFrame'>\n",
      "Int64Index: 111394 entries, 0 to 40948\n",
      "Data columns (total 16 columns):\n",
      " #   Column                  Non-Null Count   Dtype \n",
      "---  ------                  --------------   ----- \n",
      " 0   video_id                111394 non-null  object\n",
      " 1   trending_date           111394 non-null  object\n",
      " 2   title                   111394 non-null  object\n",
      " 3   channel_title           111394 non-null  object\n",
      " 4   category_id             111394 non-null  int64 \n",
      " 5   publish_time            111394 non-null  object\n",
      " 6   tags                    111394 non-null  object\n",
      " 7   views                   111394 non-null  int64 \n",
      " 8   likes                   111394 non-null  int64 \n",
      " 9   dislikes                111394 non-null  int64 \n",
      " 10  comment_count           111394 non-null  int64 \n",
      " 11  thumbnail_link          111394 non-null  object\n",
      " 12  comments_disabled       111394 non-null  bool  \n",
      " 13  ratings_disabled        111394 non-null  bool  \n",
      " 14  video_error_or_removed  111394 non-null  bool  \n",
      " 15  description             109055 non-null  object\n",
      "dtypes: bool(3), int64(5), object(8)\n",
      "memory usage: 12.2+ MB\n"
     ]
    }
   ],
   "source": [
    "# data remaining after dropping duplicates\n",
    "df.info()"
   ]
  },
  {
   "cell_type": "code",
   "execution_count": null,
   "id": "af155159",
   "metadata": {
    "papermill": {
     "duration": 0.016615,
     "end_time": "2022-10-06T20:45:28.339755",
     "exception": false,
     "start_time": "2022-10-06T20:45:28.323140",
     "status": "completed"
    },
    "tags": []
   },
   "outputs": [],
   "source": []
  },
  {
   "cell_type": "markdown",
   "id": "71a0029b",
   "metadata": {
    "papermill": {
     "duration": 0.015806,
     "end_time": "2022-10-06T20:45:28.371694",
     "exception": false,
     "start_time": "2022-10-06T20:45:28.355888",
     "status": "completed"
    },
    "tags": []
   },
   "source": [
    "### Exploratory data analysis for the three countries"
   ]
  },
  {
   "cell_type": "code",
   "execution_count": 33,
   "id": "6f9527fd",
   "metadata": {
    "execution": {
     "iopub.execute_input": "2022-10-06T20:45:28.406722Z",
     "iopub.status.busy": "2022-10-06T20:45:28.405655Z",
     "iopub.status.idle": "2022-10-06T20:45:29.514834Z",
     "shell.execute_reply": "2022-10-06T20:45:29.513717Z"
    },
    "papermill": {
     "duration": 1.129532,
     "end_time": "2022-10-06T20:45:29.517539",
     "exception": false,
     "start_time": "2022-10-06T20:45:28.388007",
     "status": "completed"
    },
    "tags": []
   },
   "outputs": [],
   "source": [
    "import matplotlib.pyplot as plt\n",
    "import seaborn as sb"
   ]
  },
  {
   "cell_type": "code",
   "execution_count": 34,
   "id": "ffdb05f7",
   "metadata": {
    "execution": {
     "iopub.execute_input": "2022-10-06T20:45:29.551415Z",
     "iopub.status.busy": "2022-10-06T20:45:29.550988Z",
     "iopub.status.idle": "2022-10-06T20:45:29.592913Z",
     "shell.execute_reply": "2022-10-06T20:45:29.592092Z"
    },
    "papermill": {
     "duration": 0.061657,
     "end_time": "2022-10-06T20:45:29.595320",
     "exception": false,
     "start_time": "2022-10-06T20:45:29.533663",
     "status": "completed"
    },
    "tags": []
   },
   "outputs": [
    {
     "data": {
      "text/plain": [
       "Maroon 5 - Wait                                                                                   57\n",
       "Nicki Minaj - Chun-Li                                                                             49\n",
       "Ariana Grande - No Tears Left To Cry                                                              47\n",
       "Ed Sheeran - Happier (Official Video)                                                             46\n",
       "Incredibles 2 - Olympics Sneak Peek                                                               46\n",
       "                                                                                                  ..\n",
       "Tyron Woodley announces he's training Floyd Mayweather for possible UFC Debut,Holly on WWE,GSP     1\n",
       "Dual Wielding Challenge vs Army Sniper                                                             1\n",
       "Chris Broussard on Golden State's NBA title chances without Steph Curry | UNDISPUTED               1\n",
       "FISH FROZEN ALIVE IN ICE WAVE - Real or Fake?                                                      1\n",
       "Katherine Langford on 13 Reasons Why, Australia & Doctor Parents                                   1\n",
       "Name: title, Length: 30626, dtype: int64"
      ]
     },
     "execution_count": 34,
     "metadata": {},
     "output_type": "execute_result"
    }
   ],
   "source": [
    "df.title.value_counts()"
   ]
  },
  {
   "cell_type": "code",
   "execution_count": 35,
   "id": "0c02c0f0",
   "metadata": {
    "execution": {
     "iopub.execute_input": "2022-10-06T20:45:29.629548Z",
     "iopub.status.busy": "2022-10-06T20:45:29.628564Z",
     "iopub.status.idle": "2022-10-06T20:45:29.633371Z",
     "shell.execute_reply": "2022-10-06T20:45:29.632558Z"
    },
    "papermill": {
     "duration": 0.024276,
     "end_time": "2022-10-06T20:45:29.635586",
     "exception": false,
     "start_time": "2022-10-06T20:45:29.611310",
     "status": "completed"
    },
    "tags": []
   },
   "outputs": [],
   "source": [
    "# plt.hist(x=df.title.value_counts());"
   ]
  },
  {
   "cell_type": "code",
   "execution_count": 36,
   "id": "e62d8a90",
   "metadata": {
    "execution": {
     "iopub.execute_input": "2022-10-06T20:45:29.669355Z",
     "iopub.status.busy": "2022-10-06T20:45:29.668896Z",
     "iopub.status.idle": "2022-10-06T20:45:29.673328Z",
     "shell.execute_reply": "2022-10-06T20:45:29.672113Z"
    },
    "papermill": {
     "duration": 0.024054,
     "end_time": "2022-10-06T20:45:29.675478",
     "exception": false,
     "start_time": "2022-10-06T20:45:29.651424",
     "status": "completed"
    },
    "tags": []
   },
   "outputs": [],
   "source": [
    "# df."
   ]
  }
 ],
 "metadata": {
  "kernelspec": {
   "display_name": "Python 3",
   "language": "python",
   "name": "python3"
  },
  "language_info": {
   "codemirror_mode": {
    "name": "ipython",
    "version": 3
   },
   "file_extension": ".py",
   "mimetype": "text/x-python",
   "name": "python",
   "nbconvert_exporter": "python",
   "pygments_lexer": "ipython3",
   "version": "3.7.12"
  },
  "papermill": {
   "default_parameters": {},
   "duration": 20.795995,
   "end_time": "2022-10-06T20:45:30.412278",
   "environment_variables": {},
   "exception": null,
   "input_path": "__notebook__.ipynb",
   "output_path": "__notebook__.ipynb",
   "parameters": {},
   "start_time": "2022-10-06T20:45:09.616283",
   "version": "2.3.4"
  }
 },
 "nbformat": 4,
 "nbformat_minor": 5
}
